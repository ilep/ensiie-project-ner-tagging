{
 "cells": [
  {
   "cell_type": "markdown",
   "metadata": {},
   "source": [
    "cf partie 1 : Cutting_Edge.ipynb"
   ]
  },
  {
   "cell_type": "markdown",
   "metadata": {},
   "source": [
    "# VI/ Sequence Tagging avec bi LSTM-CRF\n",
    "\n",
    "Importation des librairies"
   ]
  },
  {
   "cell_type": "code",
   "execution_count": 34,
   "metadata": {},
   "outputs": [
    {
     "name": "stderr",
     "output_type": "stream",
     "text": [
      "[nltk_data] Downloading package punkt to\n",
      "[nltk_data]     C:\\Users\\sujiv\\AppData\\Roaming\\nltk_data...\n",
      "[nltk_data]   Package punkt is already up-to-date!\n"
     ]
    }
   ],
   "source": [
    "import pandas as pd\n",
    "import numpy as np\n",
    "from sklearn.model_selection import train_test_split\n",
    "from collections import Counter\n",
    "from keras.preprocessing import sequence\n",
    "from keras.models import Model\n",
    "from keras.layers.wrappers import Bidirectional\n",
    "from keras.layers import Input, LSTM, Dropout, Embedding,Dense\n",
    "from keras_contrib.layers import CRF\n",
    "import json\n",
    "import nltk\n",
    "nltk.download('punkt')\n",
    "from nltk.tokenize import word_tokenize "
   ]
  },
  {
   "cell_type": "markdown",
   "metadata": {},
   "source": [
    "Récuperatation de la base de données"
   ]
  },
  {
   "cell_type": "code",
   "execution_count": 35,
   "metadata": {},
   "outputs": [],
   "source": [
    "def from_ad_to_dataframe(line, nb_line):\n",
    "    \"\"\"Fonction qui à partir d'une ligne d'un fichier Json de créer une dataframe à \n",
    "    trois colonnes. La première colonne correspond au numéro de l'annonce, la seconde \n",
    "    contient les mots de l'annonce et la troisième les positions du mot dans l'annonce.\"\"\" \n",
    "    Vect_word=(word_tokenize(eval(line.strip().replace('\\xa0',' '))[\"text\"])) # Tokenisation\n",
    "    nb_sent_list=list(map(int, nb_line*np.ones(len(Vect_word)))) # Numéro annonce\n",
    "    # Position\n",
    "    offset = 0                                                                  \n",
    "    list_pos=list()\n",
    "    for token in Vect_word:\n",
    "        offset = eval(line.strip().replace('\\xa0',' '))[\"text\"].find(token, offset)\n",
    "        list_pos.append([offset, offset+len(token)])\n",
    "        offset += len(token)\n",
    "    # Creation de la dataframe\n",
    "    data={'Ad#':nb_sent_list,'Words':Vect_word,'Pos':list_pos}\n",
    "    df=pd.DataFrame(data)\n",
    "    return df\n",
    "\n",
    "def clean_text(text):\n",
    "    \"\"\"Fonction qui permet de corriger les annotations qui surlignent un espace blanc\"\"\"\n",
    "    if text[0]==' ':      \n",
    "        if text[-1]==' ':\n",
    "            return 3\n",
    "        return 1\n",
    "    elif text[-1]==' ':\n",
    "        return 2\n",
    "    else :\n",
    "        return 0\n",
    "    \n",
    "def from_line_to_list_label(line):\n",
    "    \"\"\"Fonction qui permet de sortir les informations des labels (text, label et positions)\n",
    "    à partir d'une ligne du fichier json\"\"\"\n",
    "    list_word_label=list()\n",
    "    for i in range(len(eval(line)[\"labels\"])):\n",
    "        start=eval(line)[\"labels\"][i][0]\n",
    "        end=eval(line)[\"labels\"][i][1]\n",
    "        label=eval(line)[\"labels\"][i][2]\n",
    "        if (clean_text(eval(line.strip().replace('\\xa0',' '))[\"text\"][start:end])==0):\n",
    "            list_word_label.append([eval(line.strip().replace('\\xa0',' '))[\"text\"][start:end],label,start,end])\n",
    "        elif (clean_text(eval(line.strip().replace('\\xa0',' '))[\"text\"][start:end])==1):\n",
    "            list_word_label.append([eval(line.strip().replace('\\xa0',' '))[\"text\"][(start+1):end],label,start+1,end])\n",
    "        elif (clean_text(eval(line.strip().replace('\\xa0',' '))[\"text\"][start:end])==2):\n",
    "            list_word_label.append([eval(line.strip().replace('\\xa0',' '))[\"text\"][start:(end-1)],label,start,end-1])\n",
    "        else:\n",
    "            list_word_label.append([eval(line.strip().replace('\\xa0',' '))[\"text\"][(start+1):(end-1)],label,start+1,end-1])\n",
    "    return list_word_label\n",
    "\n",
    "def column_tag(vect_word,list_word_pos_label):\n",
    "    \"\"\"Colonne contenant les labels pour chaque mot d'une annonce\"\"\"\n",
    "    list_tag=[\"O\"]*len(vect_word[\"Pos\"])\n",
    "    for i in range(len(vect_word[\"Pos\"])):\n",
    "        for elmt in list_word_pos_label:\n",
    "            if vect_word[\"Pos\"][i][0]==elmt[2] and vect_word[\"Pos\"][i][1]<=elmt[3]:\n",
    "                list_tag[i]=\"B-\"+elmt[1]\n",
    "            elif vect_word[\"Pos\"][i][0]>elmt[2] and vect_word[\"Pos\"][i][1]<=elmt[3]:\n",
    "                list_tag[i]=\"I-\"+elmt[1]\n",
    "    return list_tag\n",
    "\n",
    "# Lecture du fichier Json\n",
    "cnt = 1 # Numéro annonce\n",
    "for i in range(1,6):\n",
    "    with open('data\\\\doccano\\\\bdd'+str(i)+'.json1', encoding=\"utf-8\") as fp:\n",
    "        line = fp.readline()\n",
    "        if i==1:\n",
    "            df=from_ad_to_dataframe(line.replace('null','\"null\"'),cnt)\n",
    "            list_word_pos_label=from_line_to_list_label(line.replace('null','\"null\"'))\n",
    "            list_tag=column_tag(df,list_word_pos_label)\n",
    "            df[\"Tag\"]=list_tag\n",
    "        else :\n",
    "            df_ad=from_ad_to_dataframe(line.replace('null','\"null\"'),cnt)\n",
    "            list_word_pos_label=from_line_to_list_label(line.replace('null','\"null\"'))\n",
    "            list_tag=column_tag(df_ad,list_word_pos_label)\n",
    "            df_ad[\"Tag\"]=list_tag\n",
    "            df=df.append(df_ad, ignore_index = True)\n",
    "        while line:\n",
    "           #print(\"Line {}: {}\".format(cnt, line.strip()))\n",
    "            if cnt!=1:\n",
    "                df_ad=from_ad_to_dataframe(line.replace('null','\"null\"'),cnt)\n",
    "                list_word_pos_label=from_line_to_list_label(line.replace('null','\"null\"'))\n",
    "                list_tag=column_tag(df_ad,list_word_pos_label)\n",
    "                df_ad[\"Tag\"]=list_tag\n",
    "                df=df.append(df_ad, ignore_index = True)\n",
    "            line = fp.readline()\n",
    "            cnt += 1"
   ]
  },
  {
   "cell_type": "code",
   "execution_count": 36,
   "metadata": {},
   "outputs": [
    {
     "data": {
      "text/html": [
       "<div>\n",
       "<style scoped>\n",
       "    .dataframe tbody tr th:only-of-type {\n",
       "        vertical-align: middle;\n",
       "    }\n",
       "\n",
       "    .dataframe tbody tr th {\n",
       "        vertical-align: top;\n",
       "    }\n",
       "\n",
       "    .dataframe thead th {\n",
       "        text-align: right;\n",
       "    }\n",
       "</style>\n",
       "<table border=\"1\" class=\"dataframe\">\n",
       "  <thead>\n",
       "    <tr style=\"text-align: right;\">\n",
       "      <th></th>\n",
       "      <th>Ad#</th>\n",
       "      <th>Words</th>\n",
       "      <th>Pos</th>\n",
       "      <th>Tag</th>\n",
       "    </tr>\n",
       "  </thead>\n",
       "  <tbody>\n",
       "    <tr>\n",
       "      <td>0</td>\n",
       "      <td>1</td>\n",
       "      <td>Situé</td>\n",
       "      <td>[0, 5]</td>\n",
       "      <td>O</td>\n",
       "    </tr>\n",
       "    <tr>\n",
       "      <td>1</td>\n",
       "      <td>1</td>\n",
       "      <td>à</td>\n",
       "      <td>[6, 7]</td>\n",
       "      <td>O</td>\n",
       "    </tr>\n",
       "    <tr>\n",
       "      <td>2</td>\n",
       "      <td>1</td>\n",
       "      <td>6</td>\n",
       "      <td>[8, 9]</td>\n",
       "      <td>O</td>\n",
       "    </tr>\n",
       "    <tr>\n",
       "      <td>3</td>\n",
       "      <td>1</td>\n",
       "      <td>stations</td>\n",
       "      <td>[10, 18]</td>\n",
       "      <td>O</td>\n",
       "    </tr>\n",
       "    <tr>\n",
       "      <td>4</td>\n",
       "      <td>1</td>\n",
       "      <td>de</td>\n",
       "      <td>[19, 21]</td>\n",
       "      <td>O</td>\n",
       "    </tr>\n",
       "  </tbody>\n",
       "</table>\n",
       "</div>"
      ],
      "text/plain": [
       "   Ad#     Words       Pos Tag\n",
       "0    1     Situé    [0, 5]   O\n",
       "1    1         à    [6, 7]   O\n",
       "2    1         6    [8, 9]   O\n",
       "3    1  stations  [10, 18]   O\n",
       "4    1        de  [19, 21]   O"
      ]
     },
     "execution_count": 36,
     "metadata": {},
     "output_type": "execute_result"
    }
   ],
   "source": [
    "df.head()"
   ]
  },
  {
   "cell_type": "code",
   "execution_count": 37,
   "metadata": {},
   "outputs": [],
   "source": [
    "def get_vocab(sent_toks, maxvocab=10000, min_count=1, verbose=True):\n",
    "    \"\"\"Fonction permettant d'avoir un dictionnaire de vocabulaire des annonces \n",
    "    immobilieres qui sont indexees par rapport à leur taux d'apparition. La fonction\n",
    "    renvoie egalement un dictionnaire inverse (index à mot). En arguments, sent_toks \n",
    "    est une liste d'annonces tokenisé, maxvocab est la taille maximale (incluant UNK\n",
    "    pour les mots inconnus et PAD pour le padding) et min_count pour le nombre \n",
    "    d'apparition minimum\"\"\"\n",
    "    vocab = [word for sent in sent_toks for word in sent]\n",
    "    # indexation par rapport au nombre d'apparition\n",
    "    sorted_vocab = sorted(Counter(vocab).most_common(), key=lambda x: x[1], reverse=True) \n",
    "    sorted_vocab = [i for i in sorted_vocab if i[0] != 'UNK']\n",
    "    if verbose:\n",
    "        print(\"total vocab:\", len(sorted_vocab))\n",
    "    sorted_vocab = [i for i in sorted_vocab if i[1] >= min_count]\n",
    "    # On rajoute le vocabulaire PAD et UNK\n",
    "    sorted_vocab = [i[0] for i in sorted_vocab[:maxvocab - 2]] \n",
    "    vocab_dict = {k: v + 1 for v, k in enumerate(sorted_vocab)}\n",
    "    vocab_dict['UNK'] = len(sorted_vocab) + 1\n",
    "    vocab_dict['PAD'] = 0\n",
    "    inv_vocab_dict = {v: k for k, v in vocab_dict.items()}\n",
    "\n",
    "    return vocab_dict, inv_vocab_dict\n",
    "\n",
    "def index_sents(sent_tokens, vocab_dict):\n",
    "    \"\"\"Fonction perttant de convertir les annonces textes en vecteurs indexées.\n",
    "    En arguments, nous avons les annonces tokenisées et le vocabulaire. La \n",
    "    fonction retourne une liste de liste d'annonces indexées.\"\"\"\n",
    "    vectors = []\n",
    "    for sent in sent_tokens:\n",
    "        sent_vect = []\n",
    "        for word in sent:\n",
    "            if word in vocab_dict.keys():\n",
    "                sent_vect.append(vocab_dict[word])\n",
    "            else:  # out of max_vocab range or OOV\n",
    "                sent_vect.append(vocab_dict['UNK'])\n",
    "        vectors.append(np.asarray(sent_vect))\n",
    "    vectors = np.asarray(vectors)\n",
    "    return vectors"
   ]
  },
  {
   "cell_type": "markdown",
   "metadata": {},
   "source": [
    "On fixe le nombre de mots maximum dans le vocabulaire et la proportion entre la taille du training set et du test test."
   ]
  },
  {
   "cell_type": "code",
   "execution_count": 38,
   "metadata": {},
   "outputs": [],
   "source": [
    "MAX_VOCAB = 5000\n",
    "TEST_SIZE = 0.33"
   ]
  },
  {
   "cell_type": "code",
   "execution_count": 39,
   "metadata": {},
   "outputs": [],
   "source": [
    "sentmarks = df[\"Ad#\"].tolist() # liste numero d annonces\n",
    "sentmarks = [str(s) for s in sentmarks]\n",
    "words = df[\"Words\"].tolist() # liste de mot\n",
    "nertags = df[\"Tag\"].tolist() # liste des tag"
   ]
  },
  {
   "cell_type": "markdown",
   "metadata": {},
   "source": [
    "On crée la liste des annonces et des tags"
   ]
  },
  {
   "cell_type": "code",
   "execution_count": 40,
   "metadata": {},
   "outputs": [],
   "source": [
    "sentence_text = [] # liste des annonces \n",
    "sentence_ners = [] # liste des tag\n",
    "\n",
    "vocab = [] # liste des mots\n",
    "\n",
    "this_snt = []\n",
    "this_ner = []\n",
    "\n",
    "for idx, s in enumerate(sentmarks):\n",
    "    # reset si nouvelle annonce\n",
    "    if int(s) == int(sentmarks[idx-1])+1 or idx==0 or idx==len(df)-1:\n",
    "        if len(this_snt) > 0 and (int(s) == int(sentmarks[idx-1])+1 or idx==len(df)-1):\n",
    "            if list(set(this_ner)) != ['O']:\n",
    "                if idx==len(df)-1:\n",
    "                    this_snt.append(words[idx].lower())\n",
    "                    this_ner.append(nertags[idx])\n",
    "                sentence_text.append(this_snt[:-1])\n",
    "                sentence_ners.append(this_ner[:-1])\n",
    "        this_snt = []\n",
    "        this_ner = []\n",
    "    \n",
    "    this_snt.append(words[idx].lower())\n",
    "    this_ner.append(nertags[idx])\n",
    "    vocab.append(words[idx].lower())"
   ]
  },
  {
   "cell_type": "markdown",
   "metadata": {},
   "source": [
    "Exemple :"
   ]
  },
  {
   "cell_type": "code",
   "execution_count": 41,
   "metadata": {},
   "outputs": [
    {
     "name": "stdout",
     "output_type": "stream",
     "text": [
      "['situé', 'à', '6', 'stations', 'de', 'la', 'porte', 'de', 'choisy', 'par', 'le', 'bus', '183', ',', 'station', 'malassis', ',', 'futur', 'tramway', '9', ',', 'à', 'proximité', 'des', 'commerces', ',', 'dans', 'une', 'résidence', 'avec', 'espace', 'vert', ',', 'gardien', ',', 'digicode', ',', 'interphone', ',', 'un', 'appartement', 'de', '3', 'pièces', ',', 'au', '3ème', 'étage', ',', 'comprenant', ':', 'entrée', ',', 'séjour', ',', '2', 'chambres', ',', 'cuisine', ',', 'salle', 'de', 'bains', ',', 'dégagement', 'et', 'wc', '.', 'un', 'parking', 'et', 'une', 'cave', 'au', 'sous-sol', '-', 'chauffage', 'et', 'eau', 'chaude', 'collectif']\n",
      "['O', 'O', 'O', 'O', 'O', 'O', 'O', 'O', 'O', 'O', 'O', 'B-TRANSPORTS_PROXIMITE', 'I-TRANSPORTS_PROXIMITE', 'O', 'O', 'O', 'O', 'O', 'B-TRANSPORTS_PROXIMITE', 'I-TRANSPORTS_PROXIMITE', 'O', 'O', 'O', 'O', 'O', 'O', 'O', 'O', 'O', 'O', 'O', 'O', 'O', 'O', 'O', 'O', 'O', 'O', 'O', 'O', 'O', 'O', 'B-N_PIECES', 'O', 'O', 'O', 'B-N_ETAGE', 'O', 'O', 'O', 'O', 'O', 'O', 'O', 'O', 'B-N_CHAMBRES', 'O', 'O', 'O', 'O', 'O', 'O', 'O', 'O', 'O', 'O', 'O', 'O', 'O', 'B-PARKING', 'O', 'O', 'B-STOCKAGE', 'O', 'O', 'O', 'O', 'O', 'O', 'O', 'B-TYPE_CHAUFFAGE']\n",
      "\n",
      "['entre', 'mairie', 'et', 'église', ',', 'au', 'pied', 'de', 'toutes', 'commodités', ',', \"l'agence\", 'guy', 'hoquet', 'vous', 'propose', 'ce', 'bel', 'appartement', 'de', '4', 'pièces', 'composé', \"d'une\", 'entrée', 'avec', 'placards', ',', 'balcon', 'donnant', 'sur', 'séjour', ',', 'cuisine', 'aménagée', 'et', 'équipée', ',', '3', 'chambres', ',', 'salle', \"d'eau\", ',', 'wc', ',', 'nombreux', 'rangements', ',', 'parking', 'sous-sol', ',', 'colocation', 'possible']\n",
      "['O', 'O', 'O', 'O', 'O', 'O', 'O', 'O', 'O', 'O', 'O', 'O', 'O', 'O', 'O', 'O', 'O', 'O', 'O', 'O', 'B-N_PIECES', 'O', 'O', 'O', 'O', 'O', 'O', 'O', 'B-EXTERIEUR', 'O', 'O', 'O', 'O', 'O', 'O', 'O', 'O', 'O', 'B-N_CHAMBRES', 'O', 'O', 'O', 'O', 'O', 'O', 'O', 'O', 'O', 'O', 'B-PARKING', 'O', 'O', 'O', 'O']\n",
      "\n"
     ]
    }
   ],
   "source": [
    "for idx, sent in enumerate(sentence_text[:2]):\n",
    "    print(sent)\n",
    "    print(sentence_ners[idx])\n",
    "    print('')"
   ]
  },
  {
   "cell_type": "code",
   "execution_count": 42,
   "metadata": {},
   "outputs": [
    {
     "name": "stdout",
     "output_type": "stream",
     "text": [
      "Le nombre de mots est de : 50308\n"
     ]
    }
   ],
   "source": [
    "print(\"Le nombre de mots est de :\",len(vocab))"
   ]
  },
  {
   "cell_type": "markdown",
   "metadata": {},
   "source": [
    "Nous avons besoin qu une annonce soit representé par un vecteur de taille fixe donc nous allons devoir avoir recours au padding.\n",
    "On affiche l'histogramme du nombre de mots dans une annonce pour choisir la taille du vecteur."
   ]
  },
  {
   "cell_type": "code",
   "execution_count": 43,
   "metadata": {},
   "outputs": [
    {
     "data": {
      "text/plain": [
       "(array([ 13.,  68., 147., 119.,  80.,  58.,  44.,  18.,  10.,  15.,   4.,\n",
       "          5.,   1.,   0.,   0.,   1.,   0.,   0.,   0.,   1.]),\n",
       " array([ 13. ,  30.8,  48.6,  66.4,  84.2, 102. , 119.8, 137.6, 155.4,\n",
       "        173.2, 191. , 208.8, 226.6, 244.4, 262.2, 280. , 297.8, 315.6,\n",
       "        333.4, 351.2, 369. ]),\n",
       " <a list of 20 Patch objects>)"
      ]
     },
     "execution_count": 43,
     "metadata": {},
     "output_type": "execute_result"
    },
    {
     "data": {
      "image/png": "[encoded data removed]",
      "text/plain": [
       "<Figure size 432x288 with 1 Axes>"
      ]
     },
     "metadata": {
      "needs_background": "light"
     },
     "output_type": "display_data"
    }
   ],
   "source": [
    "import matplotlib.pyplot as plt\n",
    "list_size=list()\n",
    "for elt in sentence_text:\n",
    "    list_size.append(len(elt))\n",
    "plt.hist(list_size, range = (min(list_size), max(list_size)), bins = 20)"
   ]
  },
  {
   "cell_type": "code",
   "execution_count": 44,
   "metadata": {},
   "outputs": [
    {
     "name": "stdout",
     "output_type": "stream",
     "text": [
      "84.97431506849315\n",
      "134.70000000000005\n",
      "164.70000000000005\n",
      "180.52999999999997\n",
      "209.33999999999992\n"
     ]
    }
   ],
   "source": [
    "print(np.mean(list_size))\n",
    "print(np.quantile(list_size, 0.90))\n",
    "print(np.quantile(list_size, 0.95))\n",
    "print(np.quantile(list_size, 0.97))\n",
    "print(np.quantile(list_size, 0.99))"
   ]
  },
  {
   "cell_type": "markdown",
   "metadata": {},
   "source": [
    "## vocabulaire et index inputs\n",
    "\n",
    "Nous allons indexée chaque mot par rapport au \"inverse frequency\" de 1 (le mot le plus commun sera 1, etc) jusqu à max_vocab. Nous reservons deux places : 0 pour le padding index PAD et MAX_VOCAB-1 pour les mots en dehors du vocabulaire ou inconnus (UNK)."
   ]
  },
  {
   "cell_type": "code",
   "execution_count": 45,
   "metadata": {},
   "outputs": [
    {
     "name": "stdout",
     "output_type": "stream",
     "text": [
      "total vocab: 3413\n"
     ]
    }
   ],
   "source": [
    "# vocab dicts pour les annonces \n",
    "# on soustrait 2 pour UNK, PAD\n",
    "word2idx, idx2word = get_vocab(sentence_text, MAX_VOCAB-2)"
   ]
  },
  {
   "cell_type": "code",
   "execution_count": 46,
   "metadata": {},
   "outputs": [
    {
     "name": "stdout",
     "output_type": "stream",
     "text": [
      "total vocab: 45\n"
     ]
    }
   ],
   "source": [
    "# NER tag vocab dicts\n",
    "ner2idx, idx2ner = get_vocab(sentence_ners, len(set(nertags))+2)"
   ]
  },
  {
   "cell_type": "code",
   "execution_count": 47,
   "metadata": {},
   "outputs": [],
   "source": [
    "# index\n",
    "sentence_text_idx = index_sents(sentence_text, word2idx)\n",
    "sentence_ners_idx = index_sents(sentence_ners, ner2idx)"
   ]
  },
  {
   "cell_type": "code",
   "execution_count": 48,
   "metadata": {},
   "outputs": [
    {
     "name": "stdout",
     "output_type": "stream",
     "text": [
      "[  49    9  219  674    2   28  246    2  675   93   38  119  599    1\n",
      "  235 1146    1  912  140  377    1    9   85   30   64    1   21    5\n",
      "   45    6  282  540    1  160    1  204    1  223    1    7   24    2\n",
      "   47   26    1   11  153   27    1   32    8   23    1   19    1   31\n",
      "   35    1   12    1   10    2   34    1  199    4   13    3    7   37\n",
      "    4    5   46   11   66   15   33    4   59   61   87]\n"
     ]
    }
   ],
   "source": [
    "print(sentence_text_idx[0])"
   ]
  },
  {
   "cell_type": "markdown",
   "metadata": {},
   "source": [
    "## train-test splitting\n"
   ]
  },
  {
   "cell_type": "code",
   "execution_count": 49,
   "metadata": {},
   "outputs": [],
   "source": [
    "indices = [i for i in range(len(sentence_text))]\n",
    "\n",
    "train_idx, test_idx, y_train_ner, y_test_ner = train_test_split(indices, sentence_ners_idx, test_size=TEST_SIZE)\n",
    "\n",
    "def get_sublist(lst, indices):\n",
    "    result = []\n",
    "    for idx in indices:\n",
    "        result.append(lst[idx])\n",
    "    return result\n",
    "\n",
    "X_train_sents = get_sublist(sentence_text_idx, train_idx)\n",
    "X_test_sents = get_sublist(sentence_text_idx, test_idx)"
   ]
  },
  {
   "cell_type": "code",
   "execution_count": 50,
   "metadata": {},
   "outputs": [],
   "source": [
    "# network hyperparameters\n",
    "MAX_LENGTH = 170 # par rapport a l histogramme, taille du vecteur\n",
    "MAX_VOCAB = 5000    \n",
    "WORDEMBED_SIZE = 300 \n",
    "HIDDEN_SIZE = 400    # LSTM Nodes/Features/Dimension\n",
    "BATCH_SIZE = 4\n",
    "DROPOUTRATE = 0.20\n",
    "MAX_EPOCHS = 6       "
   ]
  },
  {
   "cell_type": "markdown",
   "metadata": {},
   "source": [
    "On doit utiliser le padding pour les vecteurs en input et output soit de taille fixe (MAX_LENGTH)"
   ]
  },
  {
   "cell_type": "code",
   "execution_count": 51,
   "metadata": {},
   "outputs": [],
   "source": [
    "X_train_sents = sequence.pad_sequences(X_train_sents, maxlen=MAX_LENGTH, truncating='post', padding='post')\n",
    "X_test_sents = sequence.pad_sequences(X_test_sents, maxlen=MAX_LENGTH, truncating='post', padding='post')\n",
    "y_train_ner = sequence.pad_sequences(y_train_ner, maxlen=MAX_LENGTH, truncating='post', padding='post')\n",
    "y_test_ner = sequence.pad_sequences(y_test_ner, maxlen=MAX_LENGTH, truncating='post', padding='post')"
   ]
  },
  {
   "cell_type": "code",
   "execution_count": 52,
   "metadata": {},
   "outputs": [
    {
     "data": {
      "text/plain": [
       "array([ 49,   9, 219, 674,  20, 119, 599,   2,  28, 246,   2, 675,   1,\n",
       "       912, 140, 377,   1,  58,  30,  64,   1,  21,   7,  52, 129,   1,\n",
       "       204,   1, 223,   1,   7,  24,   2,  47,  26,   1,  11, 137,  27,\n",
       "         1,  42,   1,  32,   8,  23,   6,  62,   1,  19,   1,  12,  81,\n",
       "        25,   7, 518,   1,  31,  35,   1,  10,   2,  34,   4,  13,  88,\n",
       "         3,   7, 185,   2,  37,  11,  66,   0,   0,   0,   0,   0,   0,\n",
       "         0,   0,   0,   0,   0,   0,   0,   0,   0,   0,   0,   0,   0,\n",
       "         0,   0,   0,   0,   0,   0,   0,   0,   0,   0,   0,   0,   0,\n",
       "         0,   0,   0,   0,   0,   0,   0,   0,   0,   0,   0,   0,   0,\n",
       "         0,   0,   0,   0,   0,   0,   0,   0,   0,   0,   0,   0,   0,\n",
       "         0,   0,   0,   0,   0,   0,   0,   0,   0,   0,   0,   0,   0,\n",
       "         0,   0,   0,   0,   0,   0,   0,   0,   0,   0,   0,   0,   0,\n",
       "         0,   0,   0,   0,   0,   0,   0,   0,   0,   0,   0,   0,   0,\n",
       "         0])"
      ]
     },
     "execution_count": 52,
     "metadata": {},
     "output_type": "execute_result"
    }
   ],
   "source": [
    "X_train_sents[2]"
   ]
  },
  {
   "cell_type": "code",
   "execution_count": 53,
   "metadata": {},
   "outputs": [
    {
     "name": "stdout",
     "output_type": "stream",
     "text": [
      "Le nombre de labels est de : 47\n"
     ]
    }
   ],
   "source": [
    "# Nombre de labels\n",
    "NER_VOCAB = len(list(idx2ner.keys()))\n",
    "print(\"Le nombre de labels est de :\",NER_VOCAB)"
   ]
  },
  {
   "cell_type": "code",
   "execution_count": 54,
   "metadata": {},
   "outputs": [],
   "source": [
    "# On reshape la data pour la couche CRF\n",
    "y_train_ner = y_train_ner[:, :, np.newaxis]\n",
    "y_test_ner = y_test_ner[:, :, np.newaxis]"
   ]
  },
  {
   "cell_type": "markdown",
   "metadata": {},
   "source": [
    "# Reseau de neurones BiLSTM-CRF"
   ]
  },
  {
   "cell_type": "code",
   "execution_count": 55,
   "metadata": {},
   "outputs": [
    {
     "name": "stderr",
     "output_type": "stream",
     "text": [
      "C:\\Users\\sujiv\\Anaconda3\\lib\\site-packages\\keras_contrib\\layers\\crf.py:346: UserWarning: CRF.loss_function is deprecated and it might be removed in the future. Please use losses.crf_loss instead.\n",
      "  warnings.warn('CRF.loss_function is deprecated '\n",
      "C:\\Users\\sujiv\\Anaconda3\\lib\\site-packages\\keras_contrib\\layers\\crf.py:353: UserWarning: CRF.accuracy is deprecated and it might be removed in the future. Please use metrics.crf_accuracy\n",
      "  warnings.warn('CRF.accuracy is deprecated and it '\n"
     ]
    }
   ],
   "source": [
    "# text layers \n",
    "txt_input = Input(shape=(MAX_LENGTH,), name='txt_input')\n",
    "txt_embed = Embedding(MAX_VOCAB, WORDEMBED_SIZE, input_length=MAX_LENGTH,\n",
    "                      name='txt_embedding', trainable=True, mask_zero=True)(txt_input)\n",
    "\n",
    "txt_drpot = Dropout(DROPOUTRATE, name='txt_dropout')(txt_embed)\n",
    "\n",
    "mrg_lstml = Bidirectional(LSTM(HIDDEN_SIZE, return_sequences=True),\n",
    "                          name='mrg_bidirectional_1')(txt_drpot)\n",
    "\n",
    "# extra LSTM layer\n",
    "mrg_drpot = Dropout(DROPOUTRATE, name='mrg_dropout')(mrg_lstml)\n",
    "mrg_lstml = Bidirectional(LSTM(HIDDEN_SIZE, return_sequences=True),\n",
    "                          name='mrg_bidirectional_2')(mrg_lstml)\n",
    "\n",
    "# final linear chain CRF layer\n",
    "crf = CRF(NER_VOCAB, sparse_target=True)\n",
    "mrg_chain = crf(mrg_lstml)\n",
    "\n",
    "model = Model(inputs=[txt_input], outputs=mrg_chain)\n",
    "\n",
    "model.compile(optimizer='adam',\n",
    "              loss=crf.loss_function,\n",
    "              metrics=[crf.accuracy])"
   ]
  },
  {
   "cell_type": "code",
   "execution_count": 56,
   "metadata": {},
   "outputs": [
    {
     "name": "stdout",
     "output_type": "stream",
     "text": [
      "_________________________________________________________________\n",
      "Layer (type)                 Output Shape              Param #   \n",
      "=================================================================\n",
      "txt_input (InputLayer)       (None, 170)               0         \n",
      "_________________________________________________________________\n",
      "txt_embedding (Embedding)    (None, 170, 300)          1500000   \n",
      "_________________________________________________________________\n",
      "txt_dropout (Dropout)        (None, 170, 300)          0         \n",
      "_________________________________________________________________\n",
      "mrg_bidirectional_1 (Bidirec (None, 170, 800)          2243200   \n",
      "_________________________________________________________________\n",
      "mrg_bidirectional_2 (Bidirec (None, 170, 800)          3843200   \n",
      "_________________________________________________________________\n",
      "crf_2 (CRF)                  (None, 170, 47)           39950     \n",
      "=================================================================\n",
      "Total params: 7,626,350\n",
      "Trainable params: 7,626,350\n",
      "Non-trainable params: 0\n",
      "_________________________________________________________________\n"
     ]
    }
   ],
   "source": [
    "model.summary()"
   ]
  },
  {
   "cell_type": "code",
   "execution_count": 57,
   "metadata": {},
   "outputs": [
    {
     "name": "stdout",
     "output_type": "stream",
     "text": [
      "Train on 312 samples, validate on 79 samples\n",
      "Epoch 1/6\n",
      " - 570s - loss: 7.0363 - crf_viterbi_accuracy: 0.8462 - val_loss: 6.0087 - val_crf_viterbi_accuracy: 0.8739\n",
      "Epoch 2/6\n",
      " - 546s - loss: 6.6256 - crf_viterbi_accuracy: 0.8799 - val_loss: 5.6853 - val_crf_viterbi_accuracy: 0.9077\n",
      "Epoch 3/6\n",
      " - 547s - loss: 6.3630 - crf_viterbi_accuracy: 0.9288 - val_loss: 5.5696 - val_crf_viterbi_accuracy: 0.9380\n",
      "Epoch 4/6\n",
      " - 545s - loss: 6.2484 - crf_viterbi_accuracy: 0.9551 - val_loss: 5.5297 - val_crf_viterbi_accuracy: 0.9484\n",
      "Epoch 5/6\n",
      " - 559s - loss: 6.1870 - crf_viterbi_accuracy: 0.9701 - val_loss: 5.5005 - val_crf_viterbi_accuracy: 0.9558\n",
      "Epoch 6/6\n",
      " - 551s - loss: 6.1549 - crf_viterbi_accuracy: 0.9788 - val_loss: 5.4897 - val_crf_viterbi_accuracy: 0.9579\n"
     ]
    }
   ],
   "source": [
    "history = model.fit([X_train_sents], y_train_ner,\n",
    "                    batch_size=BATCH_SIZE,\n",
    "                    epochs=MAX_EPOCHS,\n",
    "                    validation_split = 0.2,\n",
    "                    verbose=2)"
   ]
  },
  {
   "cell_type": "code",
   "execution_count": 58,
   "metadata": {},
   "outputs": [],
   "source": [
    "hist_dict = history.history"
   ]
  },
  {
   "cell_type": "code",
   "execution_count": 59,
   "metadata": {},
   "outputs": [
    {
     "data": {
      "image/png": "[encoded data removed]",
      "text/plain": [
       "<Figure size 432x288 with 1 Axes>"
      ]
     },
     "metadata": {
      "needs_background": "light"
     },
     "output_type": "display_data"
    },
    {
     "data": {
      "image/png": "[encoded data removed]",
      "text/plain": [
       "<Figure size 432x288 with 1 Axes>"
      ]
     },
     "metadata": {
      "needs_background": "light"
     },
     "output_type": "display_data"
    }
   ],
   "source": [
    "plt.plot(history.history['crf_viterbi_accuracy'])\n",
    "plt.plot(history.history['val_crf_viterbi_accuracy'])\n",
    "plt.title('Model accuracy')\n",
    "plt.ylabel('Accuracy')\n",
    "plt.xlabel('Epoch')\n",
    "plt.legend(['Train', 'Test'], loc='upper left')\n",
    "plt.show()\n",
    "\n",
    "# Plot training & validation loss values\n",
    "plt.plot(history.history['loss'])\n",
    "plt.plot(history.history['val_loss'])\n",
    "plt.title('Model loss')\n",
    "plt.ylabel('Loss')\n",
    "plt.xlabel('Epoch')\n",
    "plt.legend(['Train', 'Test'], loc='upper left')\n",
    "plt.show()"
   ]
  },
  {
   "cell_type": "code",
   "execution_count": 60,
   "metadata": {},
   "outputs": [],
   "source": [
    "preds = model.predict([X_test_sents])"
   ]
  },
  {
   "cell_type": "code",
   "execution_count": 61,
   "metadata": {},
   "outputs": [],
   "source": [
    "preds = np.argmax(preds, axis=-1)\n",
    "trues = np.squeeze(y_test_ner, axis=-1)"
   ]
  },
  {
   "cell_type": "code",
   "execution_count": 62,
   "metadata": {},
   "outputs": [],
   "source": [
    "s_preds = [[idx2ner[t] for t in s] for s in preds]\n",
    "s_trues = [[idx2ner[t] for t in s] for s in trues]"
   ]
  },
  {
   "cell_type": "code",
   "execution_count": 63,
   "metadata": {},
   "outputs": [],
   "source": [
    "sorted_labels = sorted(\n",
    "    list(ner2idx.keys())[1:-2], \n",
    "    key=lambda name: (name[1:], name[0])\n",
    ")"
   ]
  },
  {
   "cell_type": "code",
   "execution_count": 64,
   "metadata": {},
   "outputs": [
    {
     "name": "stderr",
     "output_type": "stream",
     "text": [
      "C:\\Users\\sujiv\\Anaconda3\\lib\\site-packages\\sklearn\\metrics\\classification.py:1437: UndefinedMetricWarning: Precision and F-score are ill-defined and being set to 0.0 in labels with no predicted samples.\n",
      "  'precision', 'predicted', average, warn_for)\n",
      "C:\\Users\\sujiv\\Anaconda3\\lib\\site-packages\\sklearn\\metrics\\classification.py:1439: UndefinedMetricWarning: Recall and F-score are ill-defined and being set to 0.0 in labels with no true samples.\n",
      "  'recall', 'true', average, warn_for)\n"
     ]
    },
    {
     "name": "stdout",
     "output_type": "stream",
     "text": [
      "                          precision    recall  f1-score   support\n",
      "\n",
      "               B-ADRESSE      0.910     0.897     0.904        68\n",
      "               I-ADRESSE      0.885     0.873     0.879       150\n",
      "    B-ANNEE_CONSTRUCTION      0.611     0.500     0.550        22\n",
      "    I-ANNEE_CONSTRUCTION      0.750     1.000     0.857         3\n",
      "        B-AVEC_ASCENSEUR      0.740     0.794     0.766        68\n",
      "        I-AVEC_ASCENSEUR      0.696     0.941     0.800        51\n",
      "B-CHARGES_LOCATAIRE_MOIS      0.917     0.767     0.835        43\n",
      "I-CHARGES_LOCATAIRE_MOIS      0.000     0.000     0.000         0\n",
      "           B-CODE_POSTAL      0.000     0.000     0.000         5\n",
      "           B-COPROPRIETE      0.800     0.952     0.870        21\n",
      "           I-COPROPRIETE      0.000     0.000     0.000         0\n",
      "            B-DATE_DISPO      0.722     0.565     0.634        46\n",
      "            I-DATE_DISPO      0.784     0.659     0.716        44\n",
      "        B-DEPOT_GARANTIE      0.800     0.870     0.833        23\n",
      "        I-DEPOT_GARANTIE      1.000     0.333     0.500         3\n",
      "             B-EXTERIEUR      0.833     0.921     0.875       114\n",
      "             B-HONORAIRE      0.561     0.767     0.648        60\n",
      "             I-HONORAIRE      0.000     0.000     0.000         2\n",
      "              B-LOYER_CC      0.750     0.231     0.353        26\n",
      "              I-LOYER_CC      0.667     1.000     0.800         2\n",
      "              B-LOYER_HC      0.682     0.536     0.600        28\n",
      "              I-LOYER_HC      0.000     0.000     0.000         3\n",
      "                    B-M2      0.912     0.886     0.899       175\n",
      "                    I-M2      0.000     0.000     0.000         0\n",
      "            B-N_CHAMBRES      0.922     0.797     0.855       133\n",
      "            I-N_CHAMBRES      0.000     0.000     0.000         1\n",
      "               B-N_ETAGE      0.920     0.908     0.914       152\n",
      "               I-N_ETAGE      0.000     0.000     0.000         6\n",
      "              B-N_PIECES      0.970     0.879     0.923       149\n",
      "              I-N_PIECES      0.000     0.000     0.000         1\n",
      "               B-PARKING      0.913     0.988     0.949        85\n",
      "               I-PARKING      0.000     0.000     0.000         0\n",
      "              B-QUARTIER      0.340     0.321     0.330        53\n",
      "              I-QUARTIER      0.457     0.372     0.410        43\n",
      "              B-STOCKAGE      0.887     0.887     0.887        80\n",
      "              I-STOCKAGE      0.000     0.000     0.000         1\n",
      "  B-TRANSPORTS_PROXIMITE      0.822     0.937     0.876       143\n",
      "  I-TRANSPORTS_PROXIMITE      0.655     0.724     0.688        76\n",
      "        B-TYPE_CHAUFFAGE      0.887     0.934     0.910        76\n",
      "        I-TYPE_CHAUFFAGE      0.000     0.000     0.000         0\n",
      "         B-TYPE_LOCATION      0.704     0.452     0.551        42\n",
      "         I-TYPE_LOCATION      0.000     0.000     0.000         2\n",
      "                 B-VILLE      0.737     0.769     0.753        91\n",
      "                 I-VILLE      0.960     0.787     0.865        61\n",
      "\n",
      "               micro avg      0.820     0.802     0.811      2152\n",
      "               macro avg      0.550     0.528     0.528      2152\n",
      "            weighted avg      0.815     0.802     0.803      2152\n",
      "\n"
     ]
    }
   ],
   "source": [
    "from sklearn_crfsuite import metrics\n",
    "print(metrics.flat_classification_report(\n",
    "    s_trues, s_preds, labels=sorted_labels, digits=3\n",
    "))"
   ]
  },
  {
   "cell_type": "markdown",
   "metadata": {},
   "source": [
    "Les résultats sont similaires au modele CRF (cf partie 1)."
   ]
  },
  {
   "cell_type": "code",
   "execution_count": 65,
   "metadata": {},
   "outputs": [],
   "source": [
    "decoded = []\n",
    "for sent_idx in range(len(X_test_sents)):\n",
    "    \n",
    "    this_txt = sequence.pad_sequences([X_test_sents[sent_idx]], maxlen=MAX_LENGTH, truncating='post', padding='post')\n",
    "    this_pred = model.predict([this_txt])\n",
    "    this_pred = [np.argmax(p) for p in this_pred[0]]\n",
    "    np.shape(this_pred)\n",
    "\n",
    "    word, tru, prd = [], [], []\n",
    "\n",
    "    # for each word in the sentence...\n",
    "    for idx, wordid in enumerate(X_test_sents[sent_idx][:len(this_pred)]):\n",
    "\n",
    "        # decode word\n",
    "        word.append(idx2word[wordid])\n",
    "        # decode true NER tag\n",
    "        tru.append(idx2ner[int(y_test_ner[sent_idx][idx])])\n",
    "        # decode prediction\n",
    "        prd.append(idx2ner[this_pred[idx]])\n",
    "\n",
    "    answ = pd.DataFrame(\n",
    "    {\n",
    "        'word': word,\n",
    "        'true': tru,\n",
    "        'pred': prd,\n",
    "        'skip' : [' ' for s in word]\n",
    "    })\n",
    "    answ = answ[['word', 'true', 'pred', 'skip']]\n",
    "    answ = answ.T\n",
    "    decoded.append(answ)"
   ]
  },
  {
   "cell_type": "code",
   "execution_count": 66,
   "metadata": {},
   "outputs": [
    {
     "data": {
      "text/html": [
       "<div>\n",
       "<style scoped>\n",
       "    .dataframe tbody tr th:only-of-type {\n",
       "        vertical-align: middle;\n",
       "    }\n",
       "\n",
       "    .dataframe tbody tr th {\n",
       "        vertical-align: top;\n",
       "    }\n",
       "\n",
       "    .dataframe thead th {\n",
       "        text-align: right;\n",
       "    }\n",
       "</style>\n",
       "<table border=\"1\" class=\"dataframe\">\n",
       "  <thead>\n",
       "    <tr style=\"text-align: right;\">\n",
       "      <th></th>\n",
       "      <th>0</th>\n",
       "      <th>1</th>\n",
       "      <th>2</th>\n",
       "      <th>3</th>\n",
       "      <th>4</th>\n",
       "      <th>5</th>\n",
       "      <th>6</th>\n",
       "      <th>7</th>\n",
       "      <th>8</th>\n",
       "      <th>9</th>\n",
       "      <th>...</th>\n",
       "      <th>160</th>\n",
       "      <th>161</th>\n",
       "      <th>162</th>\n",
       "      <th>163</th>\n",
       "      <th>164</th>\n",
       "      <th>165</th>\n",
       "      <th>166</th>\n",
       "      <th>167</th>\n",
       "      <th>168</th>\n",
       "      <th>169</th>\n",
       "    </tr>\n",
       "  </thead>\n",
       "  <tbody>\n",
       "    <tr>\n",
       "      <td>word</td>\n",
       "      <td>spacieux</td>\n",
       "      <td>studio</td>\n",
       "      <td>au</td>\n",
       "      <td>2ème</td>\n",
       "      <td>étage</td>\n",
       "      <td>d'un</td>\n",
       "      <td>bel</td>\n",
       "      <td>immeuble</td>\n",
       "      <td>sécurisé</td>\n",
       "      <td>du</td>\n",
       "      <td>...</td>\n",
       "      <td>PAD</td>\n",
       "      <td>PAD</td>\n",
       "      <td>PAD</td>\n",
       "      <td>PAD</td>\n",
       "      <td>PAD</td>\n",
       "      <td>PAD</td>\n",
       "      <td>PAD</td>\n",
       "      <td>PAD</td>\n",
       "      <td>PAD</td>\n",
       "      <td>PAD</td>\n",
       "    </tr>\n",
       "    <tr>\n",
       "      <td>true</td>\n",
       "      <td>O</td>\n",
       "      <td>O</td>\n",
       "      <td>O</td>\n",
       "      <td>B-N_ETAGE</td>\n",
       "      <td>O</td>\n",
       "      <td>O</td>\n",
       "      <td>O</td>\n",
       "      <td>O</td>\n",
       "      <td>O</td>\n",
       "      <td>O</td>\n",
       "      <td>...</td>\n",
       "      <td>PAD</td>\n",
       "      <td>PAD</td>\n",
       "      <td>PAD</td>\n",
       "      <td>PAD</td>\n",
       "      <td>PAD</td>\n",
       "      <td>PAD</td>\n",
       "      <td>PAD</td>\n",
       "      <td>PAD</td>\n",
       "      <td>PAD</td>\n",
       "      <td>PAD</td>\n",
       "    </tr>\n",
       "    <tr>\n",
       "      <td>pred</td>\n",
       "      <td>O</td>\n",
       "      <td>O</td>\n",
       "      <td>O</td>\n",
       "      <td>B-N_ETAGE</td>\n",
       "      <td>O</td>\n",
       "      <td>O</td>\n",
       "      <td>O</td>\n",
       "      <td>O</td>\n",
       "      <td>O</td>\n",
       "      <td>O</td>\n",
       "      <td>...</td>\n",
       "      <td>PAD</td>\n",
       "      <td>PAD</td>\n",
       "      <td>PAD</td>\n",
       "      <td>PAD</td>\n",
       "      <td>PAD</td>\n",
       "      <td>PAD</td>\n",
       "      <td>PAD</td>\n",
       "      <td>PAD</td>\n",
       "      <td>PAD</td>\n",
       "      <td>PAD</td>\n",
       "    </tr>\n",
       "    <tr>\n",
       "      <td>skip</td>\n",
       "      <td></td>\n",
       "      <td></td>\n",
       "      <td></td>\n",
       "      <td></td>\n",
       "      <td></td>\n",
       "      <td></td>\n",
       "      <td></td>\n",
       "      <td></td>\n",
       "      <td></td>\n",
       "      <td></td>\n",
       "      <td>...</td>\n",
       "      <td></td>\n",
       "      <td></td>\n",
       "      <td></td>\n",
       "      <td></td>\n",
       "      <td></td>\n",
       "      <td></td>\n",
       "      <td></td>\n",
       "      <td></td>\n",
       "      <td></td>\n",
       "      <td></td>\n",
       "    </tr>\n",
       "    <tr>\n",
       "      <td>word</td>\n",
       "      <td>très</td>\n",
       "      <td>beau</td>\n",
       "      <td>studio</td>\n",
       "      <td>situé</td>\n",
       "      <td>en</td>\n",
       "      <td>rez-de-jardin</td>\n",
       "      <td>d'un</td>\n",
       "      <td>pavillon</td>\n",
       "      <td>,</td>\n",
       "      <td>situé</td>\n",
       "      <td>...</td>\n",
       "      <td>PAD</td>\n",
       "      <td>PAD</td>\n",
       "      <td>PAD</td>\n",
       "      <td>PAD</td>\n",
       "      <td>PAD</td>\n",
       "      <td>PAD</td>\n",
       "      <td>PAD</td>\n",
       "      <td>PAD</td>\n",
       "      <td>PAD</td>\n",
       "      <td>PAD</td>\n",
       "    </tr>\n",
       "    <tr>\n",
       "      <td>...</td>\n",
       "      <td>...</td>\n",
       "      <td>...</td>\n",
       "      <td>...</td>\n",
       "      <td>...</td>\n",
       "      <td>...</td>\n",
       "      <td>...</td>\n",
       "      <td>...</td>\n",
       "      <td>...</td>\n",
       "      <td>...</td>\n",
       "      <td>...</td>\n",
       "      <td>...</td>\n",
       "      <td>...</td>\n",
       "      <td>...</td>\n",
       "      <td>...</td>\n",
       "      <td>...</td>\n",
       "      <td>...</td>\n",
       "      <td>...</td>\n",
       "      <td>...</td>\n",
       "      <td>...</td>\n",
       "      <td>...</td>\n",
       "      <td>...</td>\n",
       "    </tr>\n",
       "    <tr>\n",
       "      <td>skip</td>\n",
       "      <td></td>\n",
       "      <td></td>\n",
       "      <td></td>\n",
       "      <td></td>\n",
       "      <td></td>\n",
       "      <td></td>\n",
       "      <td></td>\n",
       "      <td></td>\n",
       "      <td></td>\n",
       "      <td></td>\n",
       "      <td>...</td>\n",
       "      <td></td>\n",
       "      <td></td>\n",
       "      <td></td>\n",
       "      <td></td>\n",
       "      <td></td>\n",
       "      <td></td>\n",
       "      <td></td>\n",
       "      <td></td>\n",
       "      <td></td>\n",
       "      <td></td>\n",
       "    </tr>\n",
       "    <tr>\n",
       "      <td>word</td>\n",
       "      <td>rue</td>\n",
       "      <td>de</td>\n",
       "      <td>bièvres</td>\n",
       "      <td>,</td>\n",
       "      <td>5</td>\n",
       "      <td>mn</td>\n",
       "      <td>centre</td>\n",
       "      <td>,</td>\n",
       "      <td>immeuble</td>\n",
       "      <td>récent</td>\n",
       "      <td>...</td>\n",
       "      <td>PAD</td>\n",
       "      <td>PAD</td>\n",
       "      <td>PAD</td>\n",
       "      <td>PAD</td>\n",
       "      <td>PAD</td>\n",
       "      <td>PAD</td>\n",
       "      <td>PAD</td>\n",
       "      <td>PAD</td>\n",
       "      <td>PAD</td>\n",
       "      <td>PAD</td>\n",
       "    </tr>\n",
       "    <tr>\n",
       "      <td>true</td>\n",
       "      <td>B-ADRESSE</td>\n",
       "      <td>I-ADRESSE</td>\n",
       "      <td>I-ADRESSE</td>\n",
       "      <td>O</td>\n",
       "      <td>O</td>\n",
       "      <td>O</td>\n",
       "      <td>O</td>\n",
       "      <td>O</td>\n",
       "      <td>O</td>\n",
       "      <td>O</td>\n",
       "      <td>...</td>\n",
       "      <td>PAD</td>\n",
       "      <td>PAD</td>\n",
       "      <td>PAD</td>\n",
       "      <td>PAD</td>\n",
       "      <td>PAD</td>\n",
       "      <td>PAD</td>\n",
       "      <td>PAD</td>\n",
       "      <td>PAD</td>\n",
       "      <td>PAD</td>\n",
       "      <td>PAD</td>\n",
       "    </tr>\n",
       "    <tr>\n",
       "      <td>pred</td>\n",
       "      <td>B-ADRESSE</td>\n",
       "      <td>I-ADRESSE</td>\n",
       "      <td>I-ADRESSE</td>\n",
       "      <td>O</td>\n",
       "      <td>O</td>\n",
       "      <td>O</td>\n",
       "      <td>B-VILLE</td>\n",
       "      <td>O</td>\n",
       "      <td>O</td>\n",
       "      <td>O</td>\n",
       "      <td>...</td>\n",
       "      <td>PAD</td>\n",
       "      <td>PAD</td>\n",
       "      <td>PAD</td>\n",
       "      <td>PAD</td>\n",
       "      <td>PAD</td>\n",
       "      <td>PAD</td>\n",
       "      <td>PAD</td>\n",
       "      <td>PAD</td>\n",
       "      <td>PAD</td>\n",
       "      <td>PAD</td>\n",
       "    </tr>\n",
       "    <tr>\n",
       "      <td>skip</td>\n",
       "      <td></td>\n",
       "      <td></td>\n",
       "      <td></td>\n",
       "      <td></td>\n",
       "      <td></td>\n",
       "      <td></td>\n",
       "      <td></td>\n",
       "      <td></td>\n",
       "      <td></td>\n",
       "      <td></td>\n",
       "      <td>...</td>\n",
       "      <td></td>\n",
       "      <td></td>\n",
       "      <td></td>\n",
       "      <td></td>\n",
       "      <td></td>\n",
       "      <td></td>\n",
       "      <td></td>\n",
       "      <td></td>\n",
       "      <td></td>\n",
       "      <td></td>\n",
       "    </tr>\n",
       "  </tbody>\n",
       "</table>\n",
       "<p>772 rows × 170 columns</p>\n",
       "</div>"
      ],
      "text/plain": [
       "            0          1          2          3      4              5    \\\n",
       "word   spacieux     studio         au       2ème  étage           d'un   \n",
       "true          O          O          O  B-N_ETAGE      O              O   \n",
       "pred          O          O          O  B-N_ETAGE      O              O   \n",
       "skip                                                                     \n",
       "word       très       beau     studio      situé     en  rez-de-jardin   \n",
       "...         ...        ...        ...        ...    ...            ...   \n",
       "skip                                                                     \n",
       "word        rue         de    bièvres          ,      5             mn   \n",
       "true  B-ADRESSE  I-ADRESSE  I-ADRESSE          O      O              O   \n",
       "pred  B-ADRESSE  I-ADRESSE  I-ADRESSE          O      O              O   \n",
       "skip                                                                     \n",
       "\n",
       "          6         7         8       9    ...  160  161  162  163  164  165  \\\n",
       "word      bel  immeuble  sécurisé      du  ...  PAD  PAD  PAD  PAD  PAD  PAD   \n",
       "true        O         O         O       O  ...  PAD  PAD  PAD  PAD  PAD  PAD   \n",
       "pred        O         O         O       O  ...  PAD  PAD  PAD  PAD  PAD  PAD   \n",
       "skip                                       ...                                 \n",
       "word     d'un  pavillon         ,   situé  ...  PAD  PAD  PAD  PAD  PAD  PAD   \n",
       "...       ...       ...       ...     ...  ...  ...  ...  ...  ...  ...  ...   \n",
       "skip                                       ...                                 \n",
       "word   centre         ,  immeuble  récent  ...  PAD  PAD  PAD  PAD  PAD  PAD   \n",
       "true        O         O         O       O  ...  PAD  PAD  PAD  PAD  PAD  PAD   \n",
       "pred  B-VILLE         O         O       O  ...  PAD  PAD  PAD  PAD  PAD  PAD   \n",
       "skip                                       ...                                 \n",
       "\n",
       "      166  167  168  169  \n",
       "word  PAD  PAD  PAD  PAD  \n",
       "true  PAD  PAD  PAD  PAD  \n",
       "pred  PAD  PAD  PAD  PAD  \n",
       "skip                      \n",
       "word  PAD  PAD  PAD  PAD  \n",
       "...   ...  ...  ...  ...  \n",
       "skip                      \n",
       "word  PAD  PAD  PAD  PAD  \n",
       "true  PAD  PAD  PAD  PAD  \n",
       "pred  PAD  PAD  PAD  PAD  \n",
       "skip                      \n",
       "\n",
       "[772 rows x 170 columns]"
      ]
     },
     "execution_count": 66,
     "metadata": {},
     "output_type": "execute_result"
    }
   ],
   "source": [
    "result = pd.concat(decoded)\n",
    "result"
   ]
  },
  {
   "cell_type": "code",
   "execution_count": null,
   "metadata": {},
   "outputs": [],
   "source": []
  }
 ],
 "metadata": {
  "kernelspec": {
   "display_name": "Python 3",
   "language": "python",
   "name": "python3"
  },
  "language_info": {
   "codemirror_mode": {
    "name": "ipython",
    "version": 3
   },
   "file_extension": ".py",
   "mimetype": "text/x-python",
   "name": "python",
   "nbconvert_exporter": "python",
   "pygments_lexer": "ipython3",
   "version": "3.7.4"
  }
 },
 "nbformat": 4,
 "nbformat_minor": 2
}
