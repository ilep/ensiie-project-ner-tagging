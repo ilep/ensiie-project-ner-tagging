{
 "cells": [
  {
   "cell_type": "markdown",
   "metadata": {},
   "source": [
    "cf partie 1 : Cutting_Edge.ipynb"
   ]
  },
  {
   "cell_type": "markdown",
   "metadata": {},
   "source": [
    "# VI/ Sequence Tagging avec bi LSTM-CRF\n",
    "\n",
    "Importation des librairies"
   ]
  },
  {
   "cell_type": "code",
   "execution_count": 1,
   "metadata": {},
   "outputs": [
    {
     "name": "stderr",
     "output_type": "stream",
     "text": [
      "Using TensorFlow backend.\n",
      "[nltk_data] Downloading package punkt to\n",
      "[nltk_data]     C:\\Users\\sujiv\\AppData\\Roaming\\nltk_data...\n",
      "[nltk_data]   Package punkt is already up-to-date!\n"
     ]
    }
   ],
   "source": [
    "import pandas as pd\n",
    "import numpy as np\n",
    "from sklearn.model_selection import train_test_split\n",
    "from collections import Counter\n",
    "from keras.preprocessing import sequence\n",
    "from keras.models import Model\n",
    "from keras.layers.wrappers import Bidirectional\n",
    "from keras.layers import Input, LSTM, Dropout, Embedding,Dense\n",
    "from keras_contrib.layers import CRF\n",
    "import json\n",
    "import nltk\n",
    "nltk.download('punkt')\n",
    "from nltk.tokenize import word_tokenize "
   ]
  },
  {
   "cell_type": "markdown",
   "metadata": {},
   "source": [
    "Récuperatation de la base de données"
   ]
  },
  {
   "cell_type": "code",
   "execution_count": 2,
   "metadata": {},
   "outputs": [],
   "source": [
    "def from_ad_to_dataframe(line, nb_line):\n",
    "    \"\"\"Fonction qui à partir d'une ligne d'un fichier Json de créer une dataframe à \n",
    "    trois colonnes. La première colonne correspond au numéro de l'annonce, la seconde \n",
    "    contient les mots de l'annonce et la troisième les positions du mot dans l'annonce.\"\"\" \n",
    "    Vect_word=(word_tokenize(eval(line.strip().replace('\\xa0',' '))[\"text\"])) # Tokenisation\n",
    "    nb_sent_list=list(map(int, nb_line*np.ones(len(Vect_word)))) # Numéro annonce\n",
    "    # Position\n",
    "    offset = 0                                                                  \n",
    "    list_pos=list()\n",
    "    for token in Vect_word:\n",
    "        offset = eval(line.strip().replace('\\xa0',' '))[\"text\"].find(token, offset)\n",
    "        list_pos.append([offset, offset+len(token)])\n",
    "        offset += len(token)\n",
    "    # Creation de la dataframe\n",
    "    data={'Ad#':nb_sent_list,'Words':Vect_word,'Pos':list_pos}\n",
    "    df=pd.DataFrame(data)\n",
    "    return df\n",
    "\n",
    "def clean_text(text):\n",
    "    \"\"\"Fonction qui permet de corriger les annotations qui surlignent un espace blanc\"\"\"\n",
    "    if text[0]==' ':      \n",
    "        if text[-1]==' ':\n",
    "            return 3\n",
    "        return 1\n",
    "    elif text[-1]==' ':\n",
    "        return 2\n",
    "    else :\n",
    "        return 0\n",
    "    \n",
    "def from_line_to_list_label(line):\n",
    "    \"\"\"Fonction qui permet de sortir les informations des labels (text, label et positions)\n",
    "    à partir d'une ligne du fichier json\"\"\"\n",
    "    list_word_label=list()\n",
    "    for i in range(len(eval(line)[\"labels\"])):\n",
    "        start=eval(line)[\"labels\"][i][0]\n",
    "        end=eval(line)[\"labels\"][i][1]\n",
    "        label=eval(line)[\"labels\"][i][2]\n",
    "        if (clean_text(eval(line.strip().replace('\\xa0',' '))[\"text\"][start:end])==0):\n",
    "            list_word_label.append([eval(line.strip().replace('\\xa0',' '))[\"text\"][start:end],label,start,end])\n",
    "        elif (clean_text(eval(line.strip().replace('\\xa0',' '))[\"text\"][start:end])==1):\n",
    "            list_word_label.append([eval(line.strip().replace('\\xa0',' '))[\"text\"][(start+1):end],label,start+1,end])\n",
    "        elif (clean_text(eval(line.strip().replace('\\xa0',' '))[\"text\"][start:end])==2):\n",
    "            list_word_label.append([eval(line.strip().replace('\\xa0',' '))[\"text\"][start:(end-1)],label,start,end-1])\n",
    "        else:\n",
    "            list_word_label.append([eval(line.strip().replace('\\xa0',' '))[\"text\"][(start+1):(end-1)],label,start+1,end-1])\n",
    "    return list_word_label\n",
    "\n",
    "def column_tag(vect_word,list_word_pos_label):\n",
    "    \"\"\"Colonne contenant les labels pour chaque mot d'une annonce\"\"\"\n",
    "    list_tag=[\"O\"]*len(vect_word[\"Pos\"])\n",
    "    for i in range(len(vect_word[\"Pos\"])):\n",
    "        for elmt in list_word_pos_label:\n",
    "            if vect_word[\"Pos\"][i][0]==elmt[2] and vect_word[\"Pos\"][i][1]<=elmt[3]:\n",
    "                list_tag[i]=\"B-\"+elmt[1]\n",
    "            elif vect_word[\"Pos\"][i][0]>elmt[2] and vect_word[\"Pos\"][i][1]<=elmt[3]:\n",
    "                list_tag[i]=\"I-\"+elmt[1]\n",
    "    return list_tag\n",
    "\n",
    "# Lecture du fichier Json\n",
    "cnt = 1 # Numéro annonce\n",
    "for i in range(1,6):\n",
    "    with open('data\\\\doccano\\\\bdd'+str(i)+'.json1', encoding=\"utf-8\") as fp:\n",
    "        line = fp.readline()\n",
    "        if i==1:\n",
    "            df=from_ad_to_dataframe(line.replace('null','\"null\"'),cnt)\n",
    "            list_word_pos_label=from_line_to_list_label(line.replace('null','\"null\"'))\n",
    "            list_tag=column_tag(df,list_word_pos_label)\n",
    "            df[\"Tag\"]=list_tag\n",
    "        else :\n",
    "            df_ad=from_ad_to_dataframe(line.replace('null','\"null\"'),cnt)\n",
    "            list_word_pos_label=from_line_to_list_label(line.replace('null','\"null\"'))\n",
    "            list_tag=column_tag(df_ad,list_word_pos_label)\n",
    "            df_ad[\"Tag\"]=list_tag\n",
    "            df=df.append(df_ad, ignore_index = True)\n",
    "        while line:\n",
    "           #print(\"Line {}: {}\".format(cnt, line.strip()))\n",
    "            if cnt!=1:\n",
    "                df_ad=from_ad_to_dataframe(line.replace('null','\"null\"'),cnt)\n",
    "                list_word_pos_label=from_line_to_list_label(line.replace('null','\"null\"'))\n",
    "                list_tag=column_tag(df_ad,list_word_pos_label)\n",
    "                df_ad[\"Tag\"]=list_tag\n",
    "                df=df.append(df_ad, ignore_index = True)\n",
    "            line = fp.readline()\n",
    "            cnt += 1"
   ]
  },
  {
   "cell_type": "code",
   "execution_count": 4,
   "metadata": {},
   "outputs": [
    {
     "data": {
      "text/html": [
       "<div>\n",
       "<style scoped>\n",
       "    .dataframe tbody tr th:only-of-type {\n",
       "        vertical-align: middle;\n",
       "    }\n",
       "\n",
       "    .dataframe tbody tr th {\n",
       "        vertical-align: top;\n",
       "    }\n",
       "\n",
       "    .dataframe thead th {\n",
       "        text-align: right;\n",
       "    }\n",
       "</style>\n",
       "<table border=\"1\" class=\"dataframe\">\n",
       "  <thead>\n",
       "    <tr style=\"text-align: right;\">\n",
       "      <th></th>\n",
       "      <th>Ad#</th>\n",
       "      <th>Words</th>\n",
       "      <th>Pos</th>\n",
       "      <th>Tag</th>\n",
       "    </tr>\n",
       "  </thead>\n",
       "  <tbody>\n",
       "    <tr>\n",
       "      <td>0</td>\n",
       "      <td>1</td>\n",
       "      <td>Situé</td>\n",
       "      <td>[0, 5]</td>\n",
       "      <td>O</td>\n",
       "    </tr>\n",
       "    <tr>\n",
       "      <td>1</td>\n",
       "      <td>1</td>\n",
       "      <td>à</td>\n",
       "      <td>[6, 7]</td>\n",
       "      <td>O</td>\n",
       "    </tr>\n",
       "    <tr>\n",
       "      <td>2</td>\n",
       "      <td>1</td>\n",
       "      <td>6</td>\n",
       "      <td>[8, 9]</td>\n",
       "      <td>O</td>\n",
       "    </tr>\n",
       "    <tr>\n",
       "      <td>3</td>\n",
       "      <td>1</td>\n",
       "      <td>stations</td>\n",
       "      <td>[10, 18]</td>\n",
       "      <td>O</td>\n",
       "    </tr>\n",
       "    <tr>\n",
       "      <td>4</td>\n",
       "      <td>1</td>\n",
       "      <td>de</td>\n",
       "      <td>[19, 21]</td>\n",
       "      <td>O</td>\n",
       "    </tr>\n",
       "  </tbody>\n",
       "</table>\n",
       "</div>"
      ],
      "text/plain": [
       "   Ad#     Words       Pos Tag\n",
       "0    1     Situé    [0, 5]   O\n",
       "1    1         à    [6, 7]   O\n",
       "2    1         6    [8, 9]   O\n",
       "3    1  stations  [10, 18]   O\n",
       "4    1        de  [19, 21]   O"
      ]
     },
     "execution_count": 4,
     "metadata": {},
     "output_type": "execute_result"
    }
   ],
   "source": [
    "df.head()"
   ]
  },
  {
   "cell_type": "code",
   "execution_count": 5,
   "metadata": {},
   "outputs": [],
   "source": [
    "def get_vocab(sent_toks, maxvocab=10000, min_count=1, verbose=True):\n",
    "    \"\"\"Fonction permettant d'avoir un dictionnaire de vocabulaire des annonces \n",
    "    immobilieres qui sont indexees par rapport à leur taux d'apparition. La fonction\n",
    "    renvoie egalement un dictionnaire inverse (index à mot). En arguments, sent_toks \n",
    "    est une liste d'annonces tokenisé, maxvocab est la taille maximale (incluant UNK\n",
    "    pour les mots inconnus et PAD pour le padding) et min_count pour le nombre \n",
    "    d'apparition minimum\"\"\"\n",
    "    vocab = [word for sent in sent_toks for word in sent]\n",
    "    # indexation par rapport au nombre d'apparition\n",
    "    sorted_vocab = sorted(Counter(vocab).most_common(), key=lambda x: x[1], reverse=True) \n",
    "    sorted_vocab = [i for i in sorted_vocab if i[0] != 'UNK']\n",
    "    if verbose:\n",
    "        print(\"total vocab:\", len(sorted_vocab))\n",
    "    sorted_vocab = [i for i in sorted_vocab if i[1] >= min_count]\n",
    "    # On rajoute le vocabulaire PAD et UNK\n",
    "    sorted_vocab = [i[0] for i in sorted_vocab[:maxvocab - 2]] \n",
    "    vocab_dict = {k: v + 1 for v, k in enumerate(sorted_vocab)}\n",
    "    vocab_dict['UNK'] = len(sorted_vocab) + 1\n",
    "    vocab_dict['PAD'] = 0\n",
    "    inv_vocab_dict = {v: k for k, v in vocab_dict.items()}\n",
    "\n",
    "    return vocab_dict, inv_vocab_dict\n",
    "\n",
    "def index_sents(sent_tokens, vocab_dict):\n",
    "    \"\"\"Fonction perttant de convertir les annonces textes en vecteurs indexées.\n",
    "    En arguments, nous avons les annonces tokenisées et le vocabulaire. La \n",
    "    fonction retourne une liste de liste d'annonces indexées.\"\"\"\n",
    "    vectors = []\n",
    "    for sent in sent_tokens:\n",
    "        sent_vect = []\n",
    "        for word in sent:\n",
    "            if word in vocab_dict.keys():\n",
    "                sent_vect.append(vocab_dict[word])\n",
    "            else:  # out of max_vocab range or OOV\n",
    "                sent_vect.append(vocab_dict['UNK'])\n",
    "        vectors.append(np.asarray(sent_vect))\n",
    "    vectors = np.asarray(vectors)\n",
    "    return vectors"
   ]
  },
  {
   "cell_type": "markdown",
   "metadata": {},
   "source": [
    "On fixe le nombre de mots maximum dans le vocabulaire et la proportion entre la taille du training set et du test test."
   ]
  },
  {
   "cell_type": "code",
   "execution_count": 7,
   "metadata": {},
   "outputs": [],
   "source": [
    "MAX_VOCAB = 5000\n",
    "TEST_SIZE = 0.33"
   ]
  },
  {
   "cell_type": "code",
   "execution_count": 9,
   "metadata": {},
   "outputs": [],
   "source": [
    "sentmarks = df[\"Ad#\"].tolist() # liste numero d annonces\n",
    "sentmarks = [str(s) for s in sentmarks]\n",
    "words = df[\"Words\"].tolist() # liste de mot\n",
    "nertags = df[\"Tag\"].tolist() # liste des tag"
   ]
  },
  {
   "cell_type": "markdown",
   "metadata": {},
   "source": [
    "On crée la liste des annonces et des tags"
   ]
  },
  {
   "cell_type": "code",
   "execution_count": 11,
   "metadata": {},
   "outputs": [],
   "source": [
    "sentence_text = [] # liste des annonces \n",
    "sentence_ners = [] # liste des tag\n",
    "\n",
    "vocab = [] # liste des mots\n",
    "\n",
    "this_snt = []\n",
    "this_ner = []\n",
    "\n",
    "for idx, s in enumerate(sentmarks):\n",
    "    # reset si nouvelle annonce\n",
    "    if int(s) == int(sentmarks[idx-1])+1 or idx==0 or idx==len(df)-1:\n",
    "        if len(this_snt) > 0 and (int(s) == int(sentmarks[idx-1])+1 or idx==len(df)-1):\n",
    "            if list(set(this_ner)) != ['O']:\n",
    "                if idx==len(df)-1:\n",
    "                    this_snt.append(words[idx].lower())\n",
    "                    this_ner.append(nertags[idx])\n",
    "                sentence_text.append(this_snt[:-1])\n",
    "                sentence_ners.append(this_ner[:-1])\n",
    "        this_snt = []\n",
    "        this_ner = []\n",
    "    \n",
    "    this_snt.append(words[idx].lower())\n",
    "    this_ner.append(nertags[idx])\n",
    "    vocab.append(words[idx].lower())"
   ]
  },
  {
   "cell_type": "markdown",
   "metadata": {},
   "source": [
    "Exemple :"
   ]
  },
  {
   "cell_type": "code",
   "execution_count": 12,
   "metadata": {},
   "outputs": [
    {
     "name": "stdout",
     "output_type": "stream",
     "text": [
      "['situé', 'à', '6', 'stations', 'de', 'la', 'porte', 'de', 'choisy', 'par', 'le', 'bus', '183', ',', 'station', 'malassis', ',', 'futur', 'tramway', '9', ',', 'à', 'proximité', 'des', 'commerces', ',', 'dans', 'une', 'résidence', 'avec', 'espace', 'vert', ',', 'gardien', ',', 'digicode', ',', 'interphone', ',', 'un', 'appartement', 'de', '3', 'pièces', ',', 'au', '3ème', 'étage', ',', 'comprenant', ':', 'entrée', ',', 'séjour', ',', '2', 'chambres', ',', 'cuisine', ',', 'salle', 'de', 'bains', ',', 'dégagement', 'et', 'wc', '.', 'un', 'parking', 'et', 'une', 'cave', 'au', 'sous-sol', '-', 'chauffage', 'et', 'eau', 'chaude', 'collectif']\n",
      "['O', 'O', 'O', 'O', 'O', 'O', 'O', 'O', 'O', 'O', 'O', 'B-TRANSPORTS_PROXIMITE', 'I-TRANSPORTS_PROXIMITE', 'O', 'O', 'O', 'O', 'O', 'B-TRANSPORTS_PROXIMITE', 'I-TRANSPORTS_PROXIMITE', 'O', 'O', 'O', 'O', 'O', 'O', 'O', 'O', 'O', 'O', 'O', 'O', 'O', 'O', 'O', 'O', 'O', 'O', 'O', 'O', 'O', 'O', 'B-N_PIECES', 'O', 'O', 'O', 'B-N_ETAGE', 'O', 'O', 'O', 'O', 'O', 'O', 'O', 'O', 'B-N_CHAMBRES', 'O', 'O', 'O', 'O', 'O', 'O', 'O', 'O', 'O', 'O', 'O', 'O', 'O', 'B-PARKING', 'O', 'O', 'B-STOCKAGE', 'O', 'O', 'O', 'O', 'O', 'O', 'O', 'B-TYPE_CHAUFFAGE']\n",
      "\n",
      "['entre', 'mairie', 'et', 'église', ',', 'au', 'pied', 'de', 'toutes', 'commodités', ',', \"l'agence\", 'guy', 'hoquet', 'vous', 'propose', 'ce', 'bel', 'appartement', 'de', '4', 'pièces', 'composé', \"d'une\", 'entrée', 'avec', 'placards', ',', 'balcon', 'donnant', 'sur', 'séjour', ',', 'cuisine', 'aménagée', 'et', 'équipée', ',', '3', 'chambres', ',', 'salle', \"d'eau\", ',', 'wc', ',', 'nombreux', 'rangements', ',', 'parking', 'sous-sol', ',', 'colocation', 'possible']\n",
      "['O', 'O', 'O', 'O', 'O', 'O', 'O', 'O', 'O', 'O', 'O', 'O', 'O', 'O', 'O', 'O', 'O', 'O', 'O', 'O', 'B-N_PIECES', 'O', 'O', 'O', 'O', 'O', 'O', 'O', 'B-EXTERIEUR', 'O', 'O', 'O', 'O', 'O', 'O', 'O', 'O', 'O', 'B-N_CHAMBRES', 'O', 'O', 'O', 'O', 'O', 'O', 'O', 'O', 'O', 'O', 'B-PARKING', 'O', 'O', 'O', 'O']\n",
      "\n"
     ]
    }
   ],
   "source": [
    "for idx, sent in enumerate(sentence_text[:2]):\n",
    "    print(sent)\n",
    "    print(sentence_ners[idx])\n",
    "    print('')"
   ]
  },
  {
   "cell_type": "code",
   "execution_count": 14,
   "metadata": {},
   "outputs": [
    {
     "name": "stdout",
     "output_type": "stream",
     "text": [
      "Le nombre de mots est de : 50308\n"
     ]
    }
   ],
   "source": [
    "print(\"Le nombre de mots est de :\",len(vocab))"
   ]
  },
  {
   "cell_type": "markdown",
   "metadata": {},
   "source": [
    "Nous avons besoin qu une annonce soit representé par un vecteur de taille fixe donc nous allons devoir avoir recours au padding.\n",
    "On affiche l'histogramme du nombre de mots dans une annonce pour choisir la taille du vecteur."
   ]
  },
  {
   "cell_type": "code",
   "execution_count": 17,
   "metadata": {},
   "outputs": [
    {
     "data": {
      "text/plain": [
       "(array([ 13.,  68., 147., 119.,  80.,  58.,  44.,  18.,  10.,  15.,   4.,\n",
       "          5.,   1.,   0.,   0.,   1.,   0.,   0.,   0.,   1.]),\n",
       " array([ 13. ,  30.8,  48.6,  66.4,  84.2, 102. , 119.8, 137.6, 155.4,\n",
       "        173.2, 191. , 208.8, 226.6, 244.4, 262.2, 280. , 297.8, 315.6,\n",
       "        333.4, 351.2, 369. ]),\n",
       " <a list of 20 Patch objects>)"
      ]
     },
     "execution_count": 17,
     "metadata": {},
     "output_type": "execute_result"
    },
    {
     "data": {
      "image/png": "[encoded data removed]",
      "text/plain": [
       "<Figure size 432x288 with 1 Axes>"
      ]
     },
     "metadata": {
      "needs_background": "light"
     },
     "output_type": "display_data"
    }
   ],
   "source": [
    "import matplotlib.pyplot as plt\n",
    "list_size=list()\n",
    "for elt in sentence_text:\n",
    "    list_size.append(len(elt))\n",
    "plt.hist(list_size, range = (min(list_size), max(list_size)), bins = 20)"
   ]
  },
  {
   "cell_type": "code",
   "execution_count": 18,
   "metadata": {},
   "outputs": [
    {
     "name": "stdout",
     "output_type": "stream",
     "text": [
      "84.97431506849315\n",
      "134.70000000000005\n",
      "164.70000000000005\n",
      "180.52999999999997\n",
      "209.33999999999992\n"
     ]
    }
   ],
   "source": [
    "print(np.mean(list_size))\n",
    "print(np.quantile(list_size, 0.90))\n",
    "print(np.quantile(list_size, 0.95))\n",
    "print(np.quantile(list_size, 0.97))\n",
    "print(np.quantile(list_size, 0.99))"
   ]
  },
  {
   "cell_type": "markdown",
   "metadata": {},
   "source": [
    "## vocabulaire et index inputs\n",
    "\n",
    "Nous allons indexée chaque mot par rapport au \"inverse frequency\" de 1 (le mot le plus commun sera 1, etc) jusqu à max_vocab. Nous reservons deux places : 0 pour le padding index PAD et MAX_VOCAB-1 pour les mots en dehors du vocabulaire ou inconnus (UNK)."
   ]
  },
  {
   "cell_type": "code",
   "execution_count": 19,
   "metadata": {},
   "outputs": [
    {
     "name": "stdout",
     "output_type": "stream",
     "text": [
      "total vocab: 3413\n"
     ]
    }
   ],
   "source": [
    "# vocab dicts pour les annonces \n",
    "# on soustrait 2 pour UNK, PAD\n",
    "word2idx, idx2word = get_vocab(sentence_text, MAX_VOCAB-2)"
   ]
  },
  {
   "cell_type": "code",
   "execution_count": 22,
   "metadata": {},
   "outputs": [
    {
     "name": "stdout",
     "output_type": "stream",
     "text": [
      "total vocab: 45\n"
     ]
    }
   ],
   "source": [
    "# NER tag vocab dicts\n",
    "ner2idx, idx2ner = get_vocab(sentence_ners, len(set(nertags))+2)"
   ]
  },
  {
   "cell_type": "code",
   "execution_count": 23,
   "metadata": {},
   "outputs": [],
   "source": [
    "# index\n",
    "sentence_text_idx = index_sents(sentence_text, word2idx)\n",
    "sentence_ners_idx = index_sents(sentence_ners, ner2idx)"
   ]
  },
  {
   "cell_type": "code",
   "execution_count": 24,
   "metadata": {},
   "outputs": [
    {
     "name": "stdout",
     "output_type": "stream",
     "text": [
      "[  49    9  219  674    2   28  246    2  675   93   38  119  599    1\n",
      "  235 1146    1  912  140  377    1    9   85   30   64    1   21    5\n",
      "   45    6  282  540    1  160    1  204    1  223    1    7   24    2\n",
      "   47   26    1   11  153   27    1   32    8   23    1   19    1   31\n",
      "   35    1   12    1   10    2   34    1  199    4   13    3    7   37\n",
      "    4    5   46   11   66   15   33    4   59   61   87]\n"
     ]
    }
   ],
   "source": [
    "print(sentence_text_idx[0])"
   ]
  },
  {
   "cell_type": "markdown",
   "metadata": {},
   "source": [
    "## train-test splitting\n"
   ]
  },
  {
   "cell_type": "code",
   "execution_count": 25,
   "metadata": {},
   "outputs": [],
   "source": [
    "indices = [i for i in range(len(sentence_text))]\n",
    "\n",
    "train_idx, test_idx, y_train_ner, y_test_ner = train_test_split(indices, sentence_ners_idx, test_size=TEST_SIZE)\n",
    "\n",
    "def get_sublist(lst, indices):\n",
    "    result = []\n",
    "    for idx in indices:\n",
    "        result.append(lst[idx])\n",
    "    return result\n",
    "\n",
    "X_train_sents = get_sublist(sentence_text_idx, train_idx)\n",
    "X_test_sents = get_sublist(sentence_text_idx, test_idx)"
   ]
  },
  {
   "cell_type": "code",
   "execution_count": 26,
   "metadata": {},
   "outputs": [],
   "source": [
    "# network hyperparameters\n",
    "MAX_LENGTH = 170 # par rapport a l histogramme, taille du vecteur\n",
    "MAX_VOCAB = 5000    \n",
    "WORDEMBED_SIZE = 300 \n",
    "HIDDEN_SIZE = 400    # LSTM Nodes/Features/Dimension\n",
    "BATCH_SIZE = 4\n",
    "DROPOUTRATE = 0.20\n",
    "MAX_EPOCHS = 5       "
   ]
  },
  {
   "cell_type": "markdown",
   "metadata": {},
   "source": [
    "On doit utiliser le padding pour les vecteurs en input et output soit de taille fixe (MAX_LENGTH)"
   ]
  },
  {
   "cell_type": "code",
   "execution_count": 28,
   "metadata": {},
   "outputs": [],
   "source": [
    "X_train_sents = sequence.pad_sequences(X_train_sents, maxlen=MAX_LENGTH, truncating='post', padding='post')\n",
    "X_test_sents = sequence.pad_sequences(X_test_sents, maxlen=MAX_LENGTH, truncating='post', padding='post')\n",
    "y_train_ner = sequence.pad_sequences(y_train_ner, maxlen=MAX_LENGTH, truncating='post', padding='post')\n",
    "y_test_ner = sequence.pad_sequences(y_test_ner, maxlen=MAX_LENGTH, truncating='post', padding='post')"
   ]
  },
  {
   "cell_type": "code",
   "execution_count": 29,
   "metadata": {},
   "outputs": [
    {
     "data": {
      "text/plain": [
       "array([ 203,   53, 2219,    7,   24,    2,   54,   26,    2, 2220,   22,\n",
       "         49,   16,  149,    6,    7,   96,  339,   32,    8,    5,   23,\n",
       "          6,    7,   62,    1,    7,   19,    1,    5,   12,   40,    4,\n",
       "       1058,   41,    1,    5,   36,    6,    7,   62,    1,    5,   10,\n",
       "          2,   34,    1,   13,    1,    7,   37,   16,   66,    3,  865,\n",
       "        477, 1074,   55,    0,    0,    0,    0,    0,    0,    0,    0,\n",
       "          0,    0,    0,    0,    0,    0,    0,    0,    0,    0,    0,\n",
       "          0,    0,    0,    0,    0,    0,    0,    0,    0,    0,    0,\n",
       "          0,    0,    0,    0,    0,    0,    0,    0,    0,    0,    0,\n",
       "          0,    0,    0,    0,    0,    0,    0,    0,    0,    0,    0,\n",
       "          0,    0,    0,    0,    0,    0,    0,    0,    0,    0,    0,\n",
       "          0,    0,    0,    0,    0,    0,    0,    0,    0,    0,    0,\n",
       "          0,    0,    0,    0,    0,    0,    0,    0,    0,    0,    0,\n",
       "          0,    0,    0,    0,    0,    0,    0,    0,    0,    0,    0,\n",
       "          0,    0,    0,    0,    0,    0,    0,    0,    0,    0,    0,\n",
       "          0,    0,    0,    0,    0])"
      ]
     },
     "execution_count": 29,
     "metadata": {},
     "output_type": "execute_result"
    }
   ],
   "source": [
    "X_train_sents[2]"
   ]
  },
  {
   "cell_type": "code",
   "execution_count": 30,
   "metadata": {},
   "outputs": [
    {
     "name": "stdout",
     "output_type": "stream",
     "text": [
      "Le nombre de labels est de : 47\n"
     ]
    }
   ],
   "source": [
    "# Nombre de labels\n",
    "NER_VOCAB = len(list(idx2ner.keys()))\n",
    "print(\"Le nombre de labels est de :\",NER_VOCAB)"
   ]
  },
  {
   "cell_type": "code",
   "execution_count": 31,
   "metadata": {},
   "outputs": [],
   "source": [
    "# On reshape la data pour la couche CRF\n",
    "y_train_ner = y_train_ner[:, :, np.newaxis]\n",
    "y_test_ner = y_test_ner[:, :, np.newaxis]"
   ]
  },
  {
   "cell_type": "markdown",
   "metadata": {},
   "source": [
    "# Reseau de neurones BiLSTM-CRF"
   ]
  },
  {
   "cell_type": "code",
   "execution_count": 32,
   "metadata": {},
   "outputs": [
    {
     "name": "stdout",
     "output_type": "stream",
     "text": [
      "WARNING:tensorflow:From C:\\Users\\sujiv\\Anaconda3\\lib\\site-packages\\keras\\backend\\tensorflow_backend.py:517: The name tf.placeholder is deprecated. Please use tf.compat.v1.placeholder instead.\n",
      "\n",
      "WARNING:tensorflow:From C:\\Users\\sujiv\\Anaconda3\\lib\\site-packages\\keras\\backend\\tensorflow_backend.py:4138: The name tf.random_uniform is deprecated. Please use tf.random.uniform instead.\n",
      "\n",
      "WARNING:tensorflow:From C:\\Users\\sujiv\\Anaconda3\\lib\\site-packages\\keras\\backend\\tensorflow_backend.py:131: The name tf.get_default_graph is deprecated. Please use tf.compat.v1.get_default_graph instead.\n",
      "\n",
      "WARNING:tensorflow:From C:\\Users\\sujiv\\Anaconda3\\lib\\site-packages\\keras\\backend\\tensorflow_backend.py:133: The name tf.placeholder_with_default is deprecated. Please use tf.compat.v1.placeholder_with_default instead.\n",
      "\n",
      "WARNING:tensorflow:From C:\\Users\\sujiv\\Anaconda3\\lib\\site-packages\\keras\\backend\\tensorflow_backend.py:3445: calling dropout (from tensorflow.python.ops.nn_ops) with keep_prob is deprecated and will be removed in a future version.\n",
      "Instructions for updating:\n",
      "Please use `rate` instead of `keep_prob`. Rate should be set to `rate = 1 - keep_prob`.\n",
      "WARNING:tensorflow:From C:\\Users\\sujiv\\Anaconda3\\lib\\site-packages\\keras\\backend\\tensorflow_backend.py:2974: add_dispatch_support.<locals>.wrapper (from tensorflow.python.ops.array_ops) is deprecated and will be removed in a future version.\n",
      "Instructions for updating:\n",
      "Use tf.where in 2.0, which has the same broadcast rule as np.where\n",
      "WARNING:tensorflow:From C:\\Users\\sujiv\\Anaconda3\\lib\\site-packages\\keras\\optimizers.py:790: The name tf.train.Optimizer is deprecated. Please use tf.compat.v1.train.Optimizer instead.\n",
      "\n"
     ]
    },
    {
     "name": "stderr",
     "output_type": "stream",
     "text": [
      "C:\\Users\\sujiv\\Anaconda3\\lib\\site-packages\\keras_contrib\\layers\\crf.py:346: UserWarning: CRF.loss_function is deprecated and it might be removed in the future. Please use losses.crf_loss instead.\n",
      "  warnings.warn('CRF.loss_function is deprecated '\n",
      "C:\\Users\\sujiv\\Anaconda3\\lib\\site-packages\\keras_contrib\\layers\\crf.py:353: UserWarning: CRF.accuracy is deprecated and it might be removed in the future. Please use metrics.crf_accuracy\n",
      "  warnings.warn('CRF.accuracy is deprecated and it '\n"
     ]
    }
   ],
   "source": [
    "# text layers \n",
    "txt_input = Input(shape=(MAX_LENGTH,), name='txt_input')\n",
    "txt_embed = Embedding(MAX_VOCAB, WORDEMBED_SIZE, input_length=MAX_LENGTH,\n",
    "                      name='txt_embedding', trainable=True, mask_zero=True)(txt_input)\n",
    "\n",
    "txt_drpot = Dropout(DROPOUTRATE, name='txt_dropout')(txt_embed)\n",
    "\n",
    "mrg_lstml = Bidirectional(LSTM(HIDDEN_SIZE, return_sequences=True),\n",
    "                          name='mrg_bidirectional_1')(txt_drpot)\n",
    "\n",
    "# extra LSTM layer\n",
    "mrg_drpot = Dropout(DROPOUTRATE, name='mrg_dropout')(mrg_lstml)\n",
    "mrg_lstml = Bidirectional(LSTM(HIDDEN_SIZE, return_sequences=True),\n",
    "                          name='mrg_bidirectional_2')(mrg_lstml)\n",
    "\n",
    "# final linear chain CRF layer\n",
    "crf = CRF(NER_VOCAB, sparse_target=True)\n",
    "mrg_chain = crf(mrg_lstml)\n",
    "\n",
    "model = Model(inputs=[txt_input], outputs=mrg_chain)\n",
    "\n",
    "model.compile(optimizer='adam',\n",
    "              loss=crf.loss_function,\n",
    "              metrics=[crf.accuracy])"
   ]
  },
  {
   "cell_type": "code",
   "execution_count": 33,
   "metadata": {},
   "outputs": [
    {
     "name": "stdout",
     "output_type": "stream",
     "text": [
      "_________________________________________________________________\n",
      "Layer (type)                 Output Shape              Param #   \n",
      "=================================================================\n",
      "txt_input (InputLayer)       (None, 170)               0         \n",
      "_________________________________________________________________\n",
      "txt_embedding (Embedding)    (None, 170, 300)          1500000   \n",
      "_________________________________________________________________\n",
      "txt_dropout (Dropout)        (None, 170, 300)          0         \n",
      "_________________________________________________________________\n",
      "mrg_bidirectional_1 (Bidirec (None, 170, 800)          2243200   \n",
      "_________________________________________________________________\n",
      "mrg_bidirectional_2 (Bidirec (None, 170, 800)          3843200   \n",
      "_________________________________________________________________\n",
      "crf_1 (CRF)                  (None, 170, 47)           39950     \n",
      "=================================================================\n",
      "Total params: 7,626,350\n",
      "Trainable params: 7,626,350\n",
      "Non-trainable params: 0\n",
      "_________________________________________________________________\n"
     ]
    }
   ],
   "source": [
    "model.summary()"
   ]
  },
  {
   "cell_type": "code",
   "execution_count": 34,
   "metadata": {},
   "outputs": [
    {
     "name": "stdout",
     "output_type": "stream",
     "text": [
      "WARNING:tensorflow:From C:\\Users\\sujiv\\Anaconda3\\lib\\site-packages\\keras\\backend\\tensorflow_backend.py:986: The name tf.assign_add is deprecated. Please use tf.compat.v1.assign_add instead.\n",
      "\n",
      "Epoch 1/5\n",
      " - 722s - loss: 6.1582 - crf_viterbi_accuracy: 0.8530\n",
      "Epoch 2/5\n",
      " - 528s - loss: 5.7220 - crf_viterbi_accuracy: 0.8839\n",
      "Epoch 3/5\n",
      " - 419s - loss: 5.4902 - crf_viterbi_accuracy: 0.9323\n",
      "Epoch 4/5\n",
      " - 414s - loss: 5.3789 - crf_viterbi_accuracy: 0.9584\n",
      "Epoch 5/5\n",
      " - 414s - loss: 5.3353 - crf_viterbi_accuracy: 0.9676\n"
     ]
    }
   ],
   "source": [
    "history = model.fit([X_train_sents], y_train_ner,\n",
    "                    batch_size=BATCH_SIZE,\n",
    "                    epochs=MAX_EPOCHS,\n",
    "                    verbose=2)"
   ]
  },
  {
   "cell_type": "code",
   "execution_count": 35,
   "metadata": {},
   "outputs": [],
   "source": [
    "hist_dict = history.history"
   ]
  },
  {
   "cell_type": "code",
   "execution_count": 72,
   "metadata": {},
   "outputs": [
    {
     "ename": "KeyError",
     "evalue": "'val_loss'",
     "output_type": "error",
     "traceback": [
      "\u001b[1;31m---------------------------------------------------------------------------\u001b[0m",
      "\u001b[1;31mKeyError\u001b[0m                                  Traceback (most recent call last)",
      "\u001b[1;32m<ipython-input-72-6b51bbb550ed>\u001b[0m in \u001b[0;36m<module>\u001b[1;34m\u001b[0m\n\u001b[0;32m      1\u001b[0m \u001b[1;31m# Plot training & validation loss values\u001b[0m\u001b[1;33m\u001b[0m\u001b[1;33m\u001b[0m\u001b[1;33m\u001b[0m\u001b[0m\n\u001b[0;32m      2\u001b[0m \u001b[0mplt\u001b[0m\u001b[1;33m.\u001b[0m\u001b[0mplot\u001b[0m\u001b[1;33m(\u001b[0m\u001b[0mhistory\u001b[0m\u001b[1;33m.\u001b[0m\u001b[0mhistory\u001b[0m\u001b[1;33m[\u001b[0m\u001b[1;34m'loss'\u001b[0m\u001b[1;33m]\u001b[0m\u001b[1;33m)\u001b[0m\u001b[1;33m\u001b[0m\u001b[1;33m\u001b[0m\u001b[0m\n\u001b[1;32m----> 3\u001b[1;33m \u001b[0mplt\u001b[0m\u001b[1;33m.\u001b[0m\u001b[0mplot\u001b[0m\u001b[1;33m(\u001b[0m\u001b[0mhistory\u001b[0m\u001b[1;33m.\u001b[0m\u001b[0mhistory\u001b[0m\u001b[1;33m[\u001b[0m\u001b[1;34m'val_loss'\u001b[0m\u001b[1;33m]\u001b[0m\u001b[1;33m)\u001b[0m\u001b[1;33m\u001b[0m\u001b[1;33m\u001b[0m\u001b[0m\n\u001b[0m\u001b[0;32m      4\u001b[0m \u001b[0mplt\u001b[0m\u001b[1;33m.\u001b[0m\u001b[0mtitle\u001b[0m\u001b[1;33m(\u001b[0m\u001b[1;34m'Model loss'\u001b[0m\u001b[1;33m)\u001b[0m\u001b[1;33m\u001b[0m\u001b[1;33m\u001b[0m\u001b[0m\n\u001b[0;32m      5\u001b[0m \u001b[0mplt\u001b[0m\u001b[1;33m.\u001b[0m\u001b[0mylabel\u001b[0m\u001b[1;33m(\u001b[0m\u001b[1;34m'Loss'\u001b[0m\u001b[1;33m)\u001b[0m\u001b[1;33m\u001b[0m\u001b[1;33m\u001b[0m\u001b[0m\n",
      "\u001b[1;31mKeyError\u001b[0m: 'val_loss'"
     ]
    },
    {
     "data": {
      "image/png": "[encoded data removed]",
      "text/plain": [
       "<Figure size 432x288 with 1 Axes>"
      ]
     },
     "metadata": {
      "needs_background": "light"
     },
     "output_type": "display_data"
    }
   ],
   "source": [
    "\n",
    "\n",
    "# Plot training & validation loss values\n",
    "plt.plot(history.history['loss'])\n",
    "plt.plot(history.history['val_loss'])\n",
    "plt.title('Model loss')\n",
    "plt.ylabel('Loss')\n",
    "plt.xlabel('Epoch')\n",
    "plt.legend(['Train', 'Test'], loc='upper left')\n",
    "plt.show()"
   ]
  },
  {
   "cell_type": "code",
   "execution_count": 48,
   "metadata": {},
   "outputs": [],
   "source": [
    "preds = model.predict([X_test_sents])"
   ]
  },
  {
   "cell_type": "code",
   "execution_count": 49,
   "metadata": {},
   "outputs": [],
   "source": [
    "preds = np.argmax(preds, axis=-1)\n",
    "trues = np.squeeze(y_test_ner, axis=-1)"
   ]
  },
  {
   "cell_type": "code",
   "execution_count": 50,
   "metadata": {},
   "outputs": [],
   "source": [
    "s_preds = [[idx2ner[t] for t in s] for s in preds]\n",
    "s_trues = [[idx2ner[t] for t in s] for s in trues]"
   ]
  },
  {
   "cell_type": "code",
   "execution_count": 61,
   "metadata": {},
   "outputs": [],
   "source": [
    "sorted_labels = sorted(\n",
    "    list(ner2idx.keys())[1:-2], \n",
    "    key=lambda name: (name[1:], name[0])\n",
    ")"
   ]
  },
  {
   "cell_type": "code",
   "execution_count": 58,
   "metadata": {},
   "outputs": [
    {
     "name": "stderr",
     "output_type": "stream",
     "text": [
      "C:\\Users\\sujiv\\Anaconda3\\lib\\site-packages\\sklearn\\metrics\\classification.py:1439: UndefinedMetricWarning: Recall and F-score are ill-defined and being set to 0.0 in labels with no true samples.\n",
      "  'recall', 'true', average, warn_for)\n"
     ]
    },
    {
     "name": "stdout",
     "output_type": "stream",
     "text": [
      "                          precision    recall  f1-score   support\n",
      "\n",
      "               B-ADRESSE      0.847     0.714     0.775        70\n",
      "               I-ADRESSE      0.904     0.591     0.715       176\n",
      "    B-ANNEE_CONSTRUCTION      0.778     0.259     0.389        27\n",
      "    I-ANNEE_CONSTRUCTION      0.000     0.000     0.000         6\n",
      "        B-AVEC_ASCENSEUR      0.831     0.806     0.818        67\n",
      "        I-AVEC_ASCENSEUR      0.790     0.961     0.867        51\n",
      "B-CHARGES_LOCATAIRE_MOIS      0.812     0.839     0.825        31\n",
      "I-CHARGES_LOCATAIRE_MOIS      0.000     0.000     0.000         0\n",
      "           B-CODE_POSTAL      0.000     0.000     0.000         8\n",
      "           B-COPROPRIETE      0.900     0.429     0.581        21\n",
      "           I-COPROPRIETE      0.000     0.000     0.000         0\n",
      "            B-DATE_DISPO      0.815     0.537     0.647        41\n",
      "            I-DATE_DISPO      0.857     0.581     0.692        31\n",
      "        B-DEPOT_GARANTIE      0.818     0.600     0.692        15\n",
      "        I-DEPOT_GARANTIE      1.000     0.500     0.667         2\n",
      "             B-EXTERIEUR      0.886     0.935     0.910       108\n",
      "             B-HONORAIRE      0.893     0.798     0.843        84\n",
      "             I-HONORAIRE      0.000     0.000     0.000         1\n",
      "              B-LOYER_CC      0.750     0.316     0.444        19\n",
      "              I-LOYER_CC      0.000     0.000     0.000         2\n",
      "              B-LOYER_HC      0.900     0.750     0.818        24\n",
      "              I-LOYER_HC      0.000     0.000     0.000         2\n",
      "                    B-M2      0.748     0.838     0.791       142\n",
      "                    I-M2      0.000     0.000     0.000         0\n",
      "            B-N_CHAMBRES      0.955     0.905     0.929       116\n",
      "            I-N_CHAMBRES      0.000     0.000     0.000         0\n",
      "               B-N_ETAGE      0.904     0.888     0.896       116\n",
      "               I-N_ETAGE      0.000     0.000     0.000         4\n",
      "              B-N_PIECES      0.955     0.934     0.945       137\n",
      "              I-N_PIECES      0.000     0.000     0.000         2\n",
      "               B-PARKING      0.880     0.989     0.931        89\n",
      "               I-PARKING      0.000     0.000     0.000         0\n",
      "              B-QUARTIER      0.545     0.140     0.222        43\n",
      "              I-QUARTIER      0.636     0.179     0.280        39\n",
      "              B-STOCKAGE      0.939     0.885     0.911        87\n",
      "              I-STOCKAGE      0.000     0.000     0.000         0\n",
      "  B-TRANSPORTS_PROXIMITE      0.797     0.865     0.830       141\n",
      "  I-TRANSPORTS_PROXIMITE      0.677     0.579     0.624        76\n",
      "        B-TYPE_CHAUFFAGE      0.961     0.936     0.948        78\n",
      "        I-TYPE_CHAUFFAGE      0.000     0.000     0.000         0\n",
      "         B-TYPE_LOCATION      0.667     0.186     0.291        43\n",
      "         I-TYPE_LOCATION      0.000     0.000     0.000         1\n",
      "                 B-VILLE      0.522     0.486     0.504        72\n",
      "                 I-VILLE      1.000     0.600     0.750        40\n",
      "\n",
      "               micro avg      0.847     0.736     0.787      2012\n",
      "               macro avg      0.545     0.432     0.467      2012\n",
      "            weighted avg      0.828     0.736     0.764      2012\n",
      "\n"
     ]
    }
   ],
   "source": [
    "from sklearn_crfsuite import metrics\n",
    "print(metrics.flat_classification_report(\n",
    "    s_trues, s_preds, labels=sorted_labels, digits=3\n",
    "))"
   ]
  },
  {
   "cell_type": "markdown",
   "metadata": {},
   "source": [
    "Les résultats sont similaires au modele CRF (cf partie 1)."
   ]
  },
  {
   "cell_type": "code",
   "execution_count": 62,
   "metadata": {},
   "outputs": [],
   "source": [
    "decoded = []\n",
    "for sent_idx in range(len(X_test_sents)):\n",
    "    \n",
    "    this_txt = sequence.pad_sequences([X_test_sents[sent_idx]], maxlen=MAX_LENGTH, truncating='post', padding='post')\n",
    "    this_pred = model.predict([this_txt])\n",
    "    this_pred = [np.argmax(p) for p in this_pred[0]]\n",
    "    np.shape(this_pred)\n",
    "\n",
    "    word, tru, prd = [], [], []\n",
    "\n",
    "    # for each word in the sentence...\n",
    "    for idx, wordid in enumerate(X_test_sents[sent_idx][:len(this_pred)]):\n",
    "\n",
    "        # decode word\n",
    "        word.append(idx2word[wordid])\n",
    "        # decode true NER tag\n",
    "        tru.append(idx2ner[int(y_test_ner[sent_idx][idx])])\n",
    "        # decode prediction\n",
    "        prd.append(idx2ner[this_pred[idx]])\n",
    "\n",
    "    answ = pd.DataFrame(\n",
    "    {\n",
    "        'word': word,\n",
    "        'true': tru,\n",
    "        'pred': prd,\n",
    "        'skip' : [' ' for s in word]\n",
    "    })\n",
    "    answ = answ[['word', 'true', 'pred', 'skip']]\n",
    "    answ = answ.T\n",
    "    decoded.append(answ)"
   ]
  },
  {
   "cell_type": "code",
   "execution_count": 63,
   "metadata": {},
   "outputs": [
    {
     "data": {
      "text/html": [
       "<div>\n",
       "<style scoped>\n",
       "    .dataframe tbody tr th:only-of-type {\n",
       "        vertical-align: middle;\n",
       "    }\n",
       "\n",
       "    .dataframe tbody tr th {\n",
       "        vertical-align: top;\n",
       "    }\n",
       "\n",
       "    .dataframe thead th {\n",
       "        text-align: right;\n",
       "    }\n",
       "</style>\n",
       "<table border=\"1\" class=\"dataframe\">\n",
       "  <thead>\n",
       "    <tr style=\"text-align: right;\">\n",
       "      <th></th>\n",
       "      <th>0</th>\n",
       "      <th>1</th>\n",
       "      <th>2</th>\n",
       "      <th>3</th>\n",
       "      <th>4</th>\n",
       "      <th>5</th>\n",
       "      <th>6</th>\n",
       "      <th>7</th>\n",
       "      <th>8</th>\n",
       "      <th>9</th>\n",
       "      <th>...</th>\n",
       "      <th>160</th>\n",
       "      <th>161</th>\n",
       "      <th>162</th>\n",
       "      <th>163</th>\n",
       "      <th>164</th>\n",
       "      <th>165</th>\n",
       "      <th>166</th>\n",
       "      <th>167</th>\n",
       "      <th>168</th>\n",
       "      <th>169</th>\n",
       "    </tr>\n",
       "  </thead>\n",
       "  <tbody>\n",
       "    <tr>\n",
       "      <td>word</td>\n",
       "      <td>57</td>\n",
       "      <td>rue</td>\n",
       "      <td>gabriel</td>\n",
       "      <td>péri</td>\n",
       "      <td>-</td>\n",
       "      <td>à</td>\n",
       "      <td>8</td>\n",
       "      <td>minutes</td>\n",
       "      <td>à</td>\n",
       "      <td>pieds</td>\n",
       "      <td>...</td>\n",
       "      <td>PAD</td>\n",
       "      <td>PAD</td>\n",
       "      <td>PAD</td>\n",
       "      <td>PAD</td>\n",
       "      <td>PAD</td>\n",
       "      <td>PAD</td>\n",
       "      <td>PAD</td>\n",
       "      <td>PAD</td>\n",
       "      <td>PAD</td>\n",
       "      <td>PAD</td>\n",
       "    </tr>\n",
       "    <tr>\n",
       "      <td>true</td>\n",
       "      <td>B-ADRESSE</td>\n",
       "      <td>I-ADRESSE</td>\n",
       "      <td>I-ADRESSE</td>\n",
       "      <td>I-ADRESSE</td>\n",
       "      <td>O</td>\n",
       "      <td>O</td>\n",
       "      <td>O</td>\n",
       "      <td>O</td>\n",
       "      <td>O</td>\n",
       "      <td>O</td>\n",
       "      <td>...</td>\n",
       "      <td>PAD</td>\n",
       "      <td>PAD</td>\n",
       "      <td>PAD</td>\n",
       "      <td>PAD</td>\n",
       "      <td>PAD</td>\n",
       "      <td>PAD</td>\n",
       "      <td>PAD</td>\n",
       "      <td>PAD</td>\n",
       "      <td>PAD</td>\n",
       "      <td>PAD</td>\n",
       "    </tr>\n",
       "    <tr>\n",
       "      <td>pred</td>\n",
       "      <td>B-ADRESSE</td>\n",
       "      <td>I-ADRESSE</td>\n",
       "      <td>I-ADRESSE</td>\n",
       "      <td>I-ADRESSE</td>\n",
       "      <td>O</td>\n",
       "      <td>O</td>\n",
       "      <td>O</td>\n",
       "      <td>O</td>\n",
       "      <td>O</td>\n",
       "      <td>O</td>\n",
       "      <td>...</td>\n",
       "      <td>PAD</td>\n",
       "      <td>PAD</td>\n",
       "      <td>PAD</td>\n",
       "      <td>PAD</td>\n",
       "      <td>PAD</td>\n",
       "      <td>PAD</td>\n",
       "      <td>PAD</td>\n",
       "      <td>PAD</td>\n",
       "      <td>PAD</td>\n",
       "      <td>PAD</td>\n",
       "    </tr>\n",
       "    <tr>\n",
       "      <td>skip</td>\n",
       "      <td></td>\n",
       "      <td></td>\n",
       "      <td></td>\n",
       "      <td></td>\n",
       "      <td></td>\n",
       "      <td></td>\n",
       "      <td></td>\n",
       "      <td></td>\n",
       "      <td></td>\n",
       "      <td></td>\n",
       "      <td>...</td>\n",
       "      <td></td>\n",
       "      <td></td>\n",
       "      <td></td>\n",
       "      <td></td>\n",
       "      <td></td>\n",
       "      <td></td>\n",
       "      <td></td>\n",
       "      <td></td>\n",
       "      <td></td>\n",
       "      <td></td>\n",
       "    </tr>\n",
       "    <tr>\n",
       "      <td>word</td>\n",
       "      <td>quartier</td>\n",
       "      <td>schneider</td>\n",
       "      <td>,</td>\n",
       "      <td>rue</td>\n",
       "      <td>gambrinus</td>\n",
       "      <td>,</td>\n",
       "      <td>appartement</td>\n",
       "      <td>de</td>\n",
       "      <td>3</td>\n",
       "      <td>pièces</td>\n",
       "      <td>...</td>\n",
       "      <td>PAD</td>\n",
       "      <td>PAD</td>\n",
       "      <td>PAD</td>\n",
       "      <td>PAD</td>\n",
       "      <td>PAD</td>\n",
       "      <td>PAD</td>\n",
       "      <td>PAD</td>\n",
       "      <td>PAD</td>\n",
       "      <td>PAD</td>\n",
       "      <td>PAD</td>\n",
       "    </tr>\n",
       "    <tr>\n",
       "      <td>...</td>\n",
       "      <td>...</td>\n",
       "      <td>...</td>\n",
       "      <td>...</td>\n",
       "      <td>...</td>\n",
       "      <td>...</td>\n",
       "      <td>...</td>\n",
       "      <td>...</td>\n",
       "      <td>...</td>\n",
       "      <td>...</td>\n",
       "      <td>...</td>\n",
       "      <td>...</td>\n",
       "      <td>...</td>\n",
       "      <td>...</td>\n",
       "      <td>...</td>\n",
       "      <td>...</td>\n",
       "      <td>...</td>\n",
       "      <td>...</td>\n",
       "      <td>...</td>\n",
       "      <td>...</td>\n",
       "      <td>...</td>\n",
       "      <td>...</td>\n",
       "    </tr>\n",
       "    <tr>\n",
       "      <td>skip</td>\n",
       "      <td></td>\n",
       "      <td></td>\n",
       "      <td></td>\n",
       "      <td></td>\n",
       "      <td></td>\n",
       "      <td></td>\n",
       "      <td></td>\n",
       "      <td></td>\n",
       "      <td></td>\n",
       "      <td></td>\n",
       "      <td>...</td>\n",
       "      <td></td>\n",
       "      <td></td>\n",
       "      <td></td>\n",
       "      <td></td>\n",
       "      <td></td>\n",
       "      <td></td>\n",
       "      <td></td>\n",
       "      <td></td>\n",
       "      <td></td>\n",
       "      <td></td>\n",
       "    </tr>\n",
       "    <tr>\n",
       "      <td>word</td>\n",
       "      <td>dans</td>\n",
       "      <td>petite</td>\n",
       "      <td>copropriété</td>\n",
       "      <td>très</td>\n",
       "      <td>bien</td>\n",
       "      <td>entretenue</td>\n",
       "      <td>à</td>\n",
       "      <td>5</td>\n",
       "      <td>mns</td>\n",
       "      <td>de</td>\n",
       "      <td>...</td>\n",
       "      <td>PAD</td>\n",
       "      <td>PAD</td>\n",
       "      <td>PAD</td>\n",
       "      <td>PAD</td>\n",
       "      <td>PAD</td>\n",
       "      <td>PAD</td>\n",
       "      <td>PAD</td>\n",
       "      <td>PAD</td>\n",
       "      <td>PAD</td>\n",
       "      <td>PAD</td>\n",
       "    </tr>\n",
       "    <tr>\n",
       "      <td>true</td>\n",
       "      <td>O</td>\n",
       "      <td>O</td>\n",
       "      <td>B-COPROPRIETE</td>\n",
       "      <td>O</td>\n",
       "      <td>O</td>\n",
       "      <td>O</td>\n",
       "      <td>O</td>\n",
       "      <td>O</td>\n",
       "      <td>O</td>\n",
       "      <td>O</td>\n",
       "      <td>...</td>\n",
       "      <td>PAD</td>\n",
       "      <td>PAD</td>\n",
       "      <td>PAD</td>\n",
       "      <td>PAD</td>\n",
       "      <td>PAD</td>\n",
       "      <td>PAD</td>\n",
       "      <td>PAD</td>\n",
       "      <td>PAD</td>\n",
       "      <td>PAD</td>\n",
       "      <td>PAD</td>\n",
       "    </tr>\n",
       "    <tr>\n",
       "      <td>pred</td>\n",
       "      <td>O</td>\n",
       "      <td>O</td>\n",
       "      <td>B-TRANSPORTS_PROXIMITE</td>\n",
       "      <td>O</td>\n",
       "      <td>O</td>\n",
       "      <td>O</td>\n",
       "      <td>O</td>\n",
       "      <td>O</td>\n",
       "      <td>O</td>\n",
       "      <td>O</td>\n",
       "      <td>...</td>\n",
       "      <td>PAD</td>\n",
       "      <td>PAD</td>\n",
       "      <td>PAD</td>\n",
       "      <td>PAD</td>\n",
       "      <td>PAD</td>\n",
       "      <td>PAD</td>\n",
       "      <td>PAD</td>\n",
       "      <td>PAD</td>\n",
       "      <td>PAD</td>\n",
       "      <td>PAD</td>\n",
       "    </tr>\n",
       "    <tr>\n",
       "      <td>skip</td>\n",
       "      <td></td>\n",
       "      <td></td>\n",
       "      <td></td>\n",
       "      <td></td>\n",
       "      <td></td>\n",
       "      <td></td>\n",
       "      <td></td>\n",
       "      <td></td>\n",
       "      <td></td>\n",
       "      <td></td>\n",
       "      <td>...</td>\n",
       "      <td></td>\n",
       "      <td></td>\n",
       "      <td></td>\n",
       "      <td></td>\n",
       "      <td></td>\n",
       "      <td></td>\n",
       "      <td></td>\n",
       "      <td></td>\n",
       "      <td></td>\n",
       "      <td></td>\n",
       "    </tr>\n",
       "  </tbody>\n",
       "</table>\n",
       "<p>772 rows × 170 columns</p>\n",
       "</div>"
      ],
      "text/plain": [
       "            0          1                       2          3          4    \\\n",
       "word         57        rue                 gabriel       péri          -   \n",
       "true  B-ADRESSE  I-ADRESSE               I-ADRESSE  I-ADRESSE          O   \n",
       "pred  B-ADRESSE  I-ADRESSE               I-ADRESSE  I-ADRESSE          O   \n",
       "skip                                                                       \n",
       "word   quartier  schneider                       ,        rue  gambrinus   \n",
       "...         ...        ...                     ...        ...        ...   \n",
       "skip                                                                       \n",
       "word       dans     petite             copropriété       très       bien   \n",
       "true          O          O           B-COPROPRIETE          O          O   \n",
       "pred          O          O  B-TRANSPORTS_PROXIMITE          O          O   \n",
       "skip                                                                       \n",
       "\n",
       "             5            6        7    8       9    ...  160  161  162  163  \\\n",
       "word           à            8  minutes    à   pieds  ...  PAD  PAD  PAD  PAD   \n",
       "true           O            O        O    O       O  ...  PAD  PAD  PAD  PAD   \n",
       "pred           O            O        O    O       O  ...  PAD  PAD  PAD  PAD   \n",
       "skip                                                 ...                       \n",
       "word           ,  appartement       de    3  pièces  ...  PAD  PAD  PAD  PAD   \n",
       "...          ...          ...      ...  ...     ...  ...  ...  ...  ...  ...   \n",
       "skip                                                 ...                       \n",
       "word  entretenue            à        5  mns      de  ...  PAD  PAD  PAD  PAD   \n",
       "true           O            O        O    O       O  ...  PAD  PAD  PAD  PAD   \n",
       "pred           O            O        O    O       O  ...  PAD  PAD  PAD  PAD   \n",
       "skip                                                 ...                       \n",
       "\n",
       "      164  165  166  167  168  169  \n",
       "word  PAD  PAD  PAD  PAD  PAD  PAD  \n",
       "true  PAD  PAD  PAD  PAD  PAD  PAD  \n",
       "pred  PAD  PAD  PAD  PAD  PAD  PAD  \n",
       "skip                                \n",
       "word  PAD  PAD  PAD  PAD  PAD  PAD  \n",
       "...   ...  ...  ...  ...  ...  ...  \n",
       "skip                                \n",
       "word  PAD  PAD  PAD  PAD  PAD  PAD  \n",
       "true  PAD  PAD  PAD  PAD  PAD  PAD  \n",
       "pred  PAD  PAD  PAD  PAD  PAD  PAD  \n",
       "skip                                \n",
       "\n",
       "[772 rows x 170 columns]"
      ]
     },
     "execution_count": 63,
     "metadata": {},
     "output_type": "execute_result"
    }
   ],
   "source": [
    "result = pd.concat(decoded)\n",
    "result"
   ]
  },
  {
   "cell_type": "code",
   "execution_count": null,
   "metadata": {},
   "outputs": [],
   "source": []
  }
 ],
 "metadata": {
  "kernelspec": {
   "display_name": "Python 3",
   "language": "python",
   "name": "python3"
  },
  "language_info": {
   "codemirror_mode": {
    "name": "ipython",
    "version": 3
   },
   "file_extension": ".py",
   "mimetype": "text/x-python",
   "name": "python",
   "nbconvert_exporter": "python",
   "pygments_lexer": "ipython3",
   "version": "3.7.4"
  }
 },
 "nbformat": 4,
 "nbformat_minor": 2
}
